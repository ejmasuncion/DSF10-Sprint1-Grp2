{
 "cells": [
  {
   "cell_type": "code",
   "execution_count": 239,
   "id": "8a99ef6e",
   "metadata": {},
   "outputs": [
    {
     "name": "stdout",
     "output_type": "stream",
     "text": [
      "Requirement already satisfied: kmodes in /opt/anaconda3/lib/python3.9/site-packages (0.12.2)\n",
      "Requirement already satisfied: scipy>=0.13.3 in /opt/anaconda3/lib/python3.9/site-packages (from kmodes) (1.7.3)\n",
      "Requirement already satisfied: numpy>=1.10.4 in /opt/anaconda3/lib/python3.9/site-packages (from kmodes) (1.21.5)\n",
      "Requirement already satisfied: scikit-learn>=0.22.0 in /opt/anaconda3/lib/python3.9/site-packages (from kmodes) (1.0.2)\n",
      "Requirement already satisfied: joblib>=0.11 in /opt/anaconda3/lib/python3.9/site-packages (from kmodes) (1.1.0)\n",
      "Requirement already satisfied: threadpoolctl>=2.0.0 in /opt/anaconda3/lib/python3.9/site-packages (from scikit-learn>=0.22.0->kmodes) (2.2.0)\n",
      "Note: you may need to restart the kernel to use updated packages.\n"
     ]
    }
   ],
   "source": [
    "pip install kmodes"
   ]
  },
  {
   "cell_type": "code",
   "execution_count": 240,
   "id": "588dfa28",
   "metadata": {},
   "outputs": [],
   "source": [
    "# Import libraries\n",
    "from kmodes.kmodes import KModes\n",
    "import matplotlib.pyplot as plt\n",
    "import pandas as pd\n",
    "import plotly.express as px\n",
    "import seaborn as sns\n",
    "from sklearn.cluster import KMeans\n",
    "from sklearn.datasets import make_blobs\n",
    "from sklearn.preprocessing import StandardScaler"
   ]
  },
  {
   "cell_type": "code",
   "execution_count": 241,
   "id": "db0e477a",
   "metadata": {},
   "outputs": [],
   "source": [
    "# Load the data\n",
    "data = pd.read_csv('micro_world.csv', engine='python')"
   ]
  },
  {
   "cell_type": "code",
   "execution_count": 242,
   "id": "3a24e787",
   "metadata": {},
   "outputs": [
    {
     "data": {
      "text/html": [
       "<div>\n",
       "<style scoped>\n",
       "    .dataframe tbody tr th:only-of-type {\n",
       "        vertical-align: middle;\n",
       "    }\n",
       "\n",
       "    .dataframe tbody tr th {\n",
       "        vertical-align: top;\n",
       "    }\n",
       "\n",
       "    .dataframe thead th {\n",
       "        text-align: right;\n",
       "    }\n",
       "</style>\n",
       "<table border=\"1\" class=\"dataframe\">\n",
       "  <thead>\n",
       "    <tr style=\"text-align: right;\">\n",
       "      <th></th>\n",
       "      <th>economy</th>\n",
       "      <th>economycode</th>\n",
       "      <th>regionwb</th>\n",
       "      <th>pop_adult</th>\n",
       "      <th>wpid_random</th>\n",
       "      <th>wgt</th>\n",
       "      <th>female</th>\n",
       "      <th>age</th>\n",
       "      <th>educ</th>\n",
       "      <th>inc_q</th>\n",
       "      <th>...</th>\n",
       "      <th>receive_wages</th>\n",
       "      <th>receive_transfers</th>\n",
       "      <th>receive_pension</th>\n",
       "      <th>receive_agriculture</th>\n",
       "      <th>pay_utilities</th>\n",
       "      <th>remittances</th>\n",
       "      <th>pay_onlne</th>\n",
       "      <th>pay_onlne_mobintbuy</th>\n",
       "      <th>pay_cash</th>\n",
       "      <th>pay_cash_mobintbuy</th>\n",
       "    </tr>\n",
       "  </thead>\n",
       "  <tbody>\n",
       "    <tr>\n",
       "      <th>0</th>\n",
       "      <td>Afghanistan</td>\n",
       "      <td>AFG</td>\n",
       "      <td>South Asia</td>\n",
       "      <td>19456060.0</td>\n",
       "      <td>139880545</td>\n",
       "      <td>1.936754</td>\n",
       "      <td>1</td>\n",
       "      <td>18.0</td>\n",
       "      <td>2.0</td>\n",
       "      <td>1</td>\n",
       "      <td>...</td>\n",
       "      <td>4</td>\n",
       "      <td>4</td>\n",
       "      <td>4</td>\n",
       "      <td>2.0</td>\n",
       "      <td>2</td>\n",
       "      <td>5.0</td>\n",
       "      <td>0.0</td>\n",
       "      <td>NaN</td>\n",
       "      <td>0.0</td>\n",
       "      <td>NaN</td>\n",
       "    </tr>\n",
       "    <tr>\n",
       "      <th>1</th>\n",
       "      <td>Afghanistan</td>\n",
       "      <td>AFG</td>\n",
       "      <td>South Asia</td>\n",
       "      <td>19456060.0</td>\n",
       "      <td>111705622</td>\n",
       "      <td>0.332867</td>\n",
       "      <td>2</td>\n",
       "      <td>25.0</td>\n",
       "      <td>1.0</td>\n",
       "      <td>5</td>\n",
       "      <td>...</td>\n",
       "      <td>4</td>\n",
       "      <td>4</td>\n",
       "      <td>4</td>\n",
       "      <td>4.0</td>\n",
       "      <td>4</td>\n",
       "      <td>5.0</td>\n",
       "      <td>0.0</td>\n",
       "      <td>NaN</td>\n",
       "      <td>0.0</td>\n",
       "      <td>NaN</td>\n",
       "    </tr>\n",
       "    <tr>\n",
       "      <th>2</th>\n",
       "      <td>Afghanistan</td>\n",
       "      <td>AFG</td>\n",
       "      <td>South Asia</td>\n",
       "      <td>19456060.0</td>\n",
       "      <td>128866217</td>\n",
       "      <td>1.338906</td>\n",
       "      <td>2</td>\n",
       "      <td>40.0</td>\n",
       "      <td>1.0</td>\n",
       "      <td>2</td>\n",
       "      <td>...</td>\n",
       "      <td>4</td>\n",
       "      <td>4</td>\n",
       "      <td>4</td>\n",
       "      <td>4.0</td>\n",
       "      <td>2</td>\n",
       "      <td>5.0</td>\n",
       "      <td>0.0</td>\n",
       "      <td>NaN</td>\n",
       "      <td>0.0</td>\n",
       "      <td>NaN</td>\n",
       "    </tr>\n",
       "    <tr>\n",
       "      <th>3</th>\n",
       "      <td>Afghanistan</td>\n",
       "      <td>AFG</td>\n",
       "      <td>South Asia</td>\n",
       "      <td>19456060.0</td>\n",
       "      <td>138171768</td>\n",
       "      <td>0.275619</td>\n",
       "      <td>2</td>\n",
       "      <td>45.0</td>\n",
       "      <td>1.0</td>\n",
       "      <td>1</td>\n",
       "      <td>...</td>\n",
       "      <td>4</td>\n",
       "      <td>4</td>\n",
       "      <td>4</td>\n",
       "      <td>4.0</td>\n",
       "      <td>4</td>\n",
       "      <td>5.0</td>\n",
       "      <td>0.0</td>\n",
       "      <td>NaN</td>\n",
       "      <td>0.0</td>\n",
       "      <td>NaN</td>\n",
       "    </tr>\n",
       "    <tr>\n",
       "      <th>4</th>\n",
       "      <td>Afghanistan</td>\n",
       "      <td>AFG</td>\n",
       "      <td>South Asia</td>\n",
       "      <td>19456060.0</td>\n",
       "      <td>125156190</td>\n",
       "      <td>0.629304</td>\n",
       "      <td>1</td>\n",
       "      <td>30.0</td>\n",
       "      <td>1.0</td>\n",
       "      <td>4</td>\n",
       "      <td>...</td>\n",
       "      <td>4</td>\n",
       "      <td>4</td>\n",
       "      <td>4</td>\n",
       "      <td>4.0</td>\n",
       "      <td>4</td>\n",
       "      <td>5.0</td>\n",
       "      <td>0.0</td>\n",
       "      <td>NaN</td>\n",
       "      <td>0.0</td>\n",
       "      <td>NaN</td>\n",
       "    </tr>\n",
       "    <tr>\n",
       "      <th>...</th>\n",
       "      <td>...</td>\n",
       "      <td>...</td>\n",
       "      <td>...</td>\n",
       "      <td>...</td>\n",
       "      <td>...</td>\n",
       "      <td>...</td>\n",
       "      <td>...</td>\n",
       "      <td>...</td>\n",
       "      <td>...</td>\n",
       "      <td>...</td>\n",
       "      <td>...</td>\n",
       "      <td>...</td>\n",
       "      <td>...</td>\n",
       "      <td>...</td>\n",
       "      <td>...</td>\n",
       "      <td>...</td>\n",
       "      <td>...</td>\n",
       "      <td>...</td>\n",
       "      <td>...</td>\n",
       "      <td>...</td>\n",
       "      <td>...</td>\n",
       "    </tr>\n",
       "    <tr>\n",
       "      <th>154918</th>\n",
       "      <td>Zimbabwe</td>\n",
       "      <td>ZWE</td>\n",
       "      <td>Sub-Saharan Africa (excluding high income)</td>\n",
       "      <td>9467437.0</td>\n",
       "      <td>167986916</td>\n",
       "      <td>0.413192</td>\n",
       "      <td>2</td>\n",
       "      <td>56.0</td>\n",
       "      <td>1.0</td>\n",
       "      <td>3</td>\n",
       "      <td>...</td>\n",
       "      <td>4</td>\n",
       "      <td>4</td>\n",
       "      <td>4</td>\n",
       "      <td>4.0</td>\n",
       "      <td>4</td>\n",
       "      <td>5.0</td>\n",
       "      <td>0.0</td>\n",
       "      <td>NaN</td>\n",
       "      <td>0.0</td>\n",
       "      <td>NaN</td>\n",
       "    </tr>\n",
       "    <tr>\n",
       "      <th>154919</th>\n",
       "      <td>Zimbabwe</td>\n",
       "      <td>ZWE</td>\n",
       "      <td>Sub-Saharan Africa (excluding high income)</td>\n",
       "      <td>9467437.0</td>\n",
       "      <td>121992603</td>\n",
       "      <td>0.576707</td>\n",
       "      <td>1</td>\n",
       "      <td>56.0</td>\n",
       "      <td>1.0</td>\n",
       "      <td>4</td>\n",
       "      <td>...</td>\n",
       "      <td>4</td>\n",
       "      <td>4</td>\n",
       "      <td>4</td>\n",
       "      <td>4.0</td>\n",
       "      <td>4</td>\n",
       "      <td>2.0</td>\n",
       "      <td>0.0</td>\n",
       "      <td>NaN</td>\n",
       "      <td>0.0</td>\n",
       "      <td>NaN</td>\n",
       "    </tr>\n",
       "    <tr>\n",
       "      <th>154920</th>\n",
       "      <td>Zimbabwe</td>\n",
       "      <td>ZWE</td>\n",
       "      <td>Sub-Saharan Africa (excluding high income)</td>\n",
       "      <td>9467437.0</td>\n",
       "      <td>137769624</td>\n",
       "      <td>1.481972</td>\n",
       "      <td>1</td>\n",
       "      <td>36.0</td>\n",
       "      <td>2.0</td>\n",
       "      <td>4</td>\n",
       "      <td>...</td>\n",
       "      <td>4</td>\n",
       "      <td>4</td>\n",
       "      <td>4</td>\n",
       "      <td>4.0</td>\n",
       "      <td>4</td>\n",
       "      <td>1.0</td>\n",
       "      <td>0.0</td>\n",
       "      <td>NaN</td>\n",
       "      <td>0.0</td>\n",
       "      <td>NaN</td>\n",
       "    </tr>\n",
       "    <tr>\n",
       "      <th>154921</th>\n",
       "      <td>Zimbabwe</td>\n",
       "      <td>ZWE</td>\n",
       "      <td>Sub-Saharan Africa (excluding high income)</td>\n",
       "      <td>9467437.0</td>\n",
       "      <td>181215643</td>\n",
       "      <td>0.259968</td>\n",
       "      <td>1</td>\n",
       "      <td>35.0</td>\n",
       "      <td>3.0</td>\n",
       "      <td>5</td>\n",
       "      <td>...</td>\n",
       "      <td>1</td>\n",
       "      <td>4</td>\n",
       "      <td>4</td>\n",
       "      <td>3.0</td>\n",
       "      <td>1</td>\n",
       "      <td>1.0</td>\n",
       "      <td>0.0</td>\n",
       "      <td>NaN</td>\n",
       "      <td>0.0</td>\n",
       "      <td>NaN</td>\n",
       "    </tr>\n",
       "    <tr>\n",
       "      <th>154922</th>\n",
       "      <td>Zimbabwe</td>\n",
       "      <td>ZWE</td>\n",
       "      <td>Sub-Saharan Africa (excluding high income)</td>\n",
       "      <td>9467437.0</td>\n",
       "      <td>133939668</td>\n",
       "      <td>0.791151</td>\n",
       "      <td>1</td>\n",
       "      <td>46.0</td>\n",
       "      <td>2.0</td>\n",
       "      <td>1</td>\n",
       "      <td>...</td>\n",
       "      <td>4</td>\n",
       "      <td>3</td>\n",
       "      <td>4</td>\n",
       "      <td>4.0</td>\n",
       "      <td>4</td>\n",
       "      <td>3.0</td>\n",
       "      <td>0.0</td>\n",
       "      <td>NaN</td>\n",
       "      <td>0.0</td>\n",
       "      <td>NaN</td>\n",
       "    </tr>\n",
       "  </tbody>\n",
       "</table>\n",
       "<p>154923 rows × 105 columns</p>\n",
       "</div>"
      ],
      "text/plain": [
       "            economy economycode                                    regionwb  \\\n",
       "0       Afghanistan         AFG                                  South Asia   \n",
       "1       Afghanistan         AFG                                  South Asia   \n",
       "2       Afghanistan         AFG                                  South Asia   \n",
       "3       Afghanistan         AFG                                  South Asia   \n",
       "4       Afghanistan         AFG                                  South Asia   \n",
       "...             ...         ...                                         ...   \n",
       "154918     Zimbabwe         ZWE  Sub-Saharan Africa (excluding high income)   \n",
       "154919     Zimbabwe         ZWE  Sub-Saharan Africa (excluding high income)   \n",
       "154920     Zimbabwe         ZWE  Sub-Saharan Africa (excluding high income)   \n",
       "154921     Zimbabwe         ZWE  Sub-Saharan Africa (excluding high income)   \n",
       "154922     Zimbabwe         ZWE  Sub-Saharan Africa (excluding high income)   \n",
       "\n",
       "         pop_adult  wpid_random       wgt  female   age  educ  inc_q  ...  \\\n",
       "0       19456060.0    139880545  1.936754       1  18.0   2.0      1  ...   \n",
       "1       19456060.0    111705622  0.332867       2  25.0   1.0      5  ...   \n",
       "2       19456060.0    128866217  1.338906       2  40.0   1.0      2  ...   \n",
       "3       19456060.0    138171768  0.275619       2  45.0   1.0      1  ...   \n",
       "4       19456060.0    125156190  0.629304       1  30.0   1.0      4  ...   \n",
       "...            ...          ...       ...     ...   ...   ...    ...  ...   \n",
       "154918   9467437.0    167986916  0.413192       2  56.0   1.0      3  ...   \n",
       "154919   9467437.0    121992603  0.576707       1  56.0   1.0      4  ...   \n",
       "154920   9467437.0    137769624  1.481972       1  36.0   2.0      4  ...   \n",
       "154921   9467437.0    181215643  0.259968       1  35.0   3.0      5  ...   \n",
       "154922   9467437.0    133939668  0.791151       1  46.0   2.0      1  ...   \n",
       "\n",
       "        receive_wages  receive_transfers  receive_pension  \\\n",
       "0                   4                  4                4   \n",
       "1                   4                  4                4   \n",
       "2                   4                  4                4   \n",
       "3                   4                  4                4   \n",
       "4                   4                  4                4   \n",
       "...               ...                ...              ...   \n",
       "154918              4                  4                4   \n",
       "154919              4                  4                4   \n",
       "154920              4                  4                4   \n",
       "154921              1                  4                4   \n",
       "154922              4                  3                4   \n",
       "\n",
       "        receive_agriculture  pay_utilities  remittances  pay_onlne  \\\n",
       "0                       2.0              2          5.0        0.0   \n",
       "1                       4.0              4          5.0        0.0   \n",
       "2                       4.0              2          5.0        0.0   \n",
       "3                       4.0              4          5.0        0.0   \n",
       "4                       4.0              4          5.0        0.0   \n",
       "...                     ...            ...          ...        ...   \n",
       "154918                  4.0              4          5.0        0.0   \n",
       "154919                  4.0              4          2.0        0.0   \n",
       "154920                  4.0              4          1.0        0.0   \n",
       "154921                  3.0              1          1.0        0.0   \n",
       "154922                  4.0              4          3.0        0.0   \n",
       "\n",
       "        pay_onlne_mobintbuy  pay_cash  pay_cash_mobintbuy  \n",
       "0                       NaN       0.0                 NaN  \n",
       "1                       NaN       0.0                 NaN  \n",
       "2                       NaN       0.0                 NaN  \n",
       "3                       NaN       0.0                 NaN  \n",
       "4                       NaN       0.0                 NaN  \n",
       "...                     ...       ...                 ...  \n",
       "154918                  NaN       0.0                 NaN  \n",
       "154919                  NaN       0.0                 NaN  \n",
       "154920                  NaN       0.0                 NaN  \n",
       "154921                  NaN       0.0                 NaN  \n",
       "154922                  NaN       0.0                 NaN  \n",
       "\n",
       "[154923 rows x 105 columns]"
      ]
     },
     "execution_count": 242,
     "metadata": {},
     "output_type": "execute_result"
    }
   ],
   "source": [
    "# Show the data\n",
    "data"
   ]
  },
  {
   "cell_type": "code",
   "execution_count": 243,
   "id": "83f1db1b",
   "metadata": {},
   "outputs": [],
   "source": [
    "# Filter Philippines\n",
    "philippine_data = data[\n",
    "    data['economy']=='Philippines'\n",
    "]"
   ]
  },
  {
   "cell_type": "code",
   "execution_count": 244,
   "id": "8011b0d1",
   "metadata": {},
   "outputs": [
    {
     "data": {
      "text/html": [
       "<div>\n",
       "<style scoped>\n",
       "    .dataframe tbody tr th:only-of-type {\n",
       "        vertical-align: middle;\n",
       "    }\n",
       "\n",
       "    .dataframe tbody tr th {\n",
       "        vertical-align: top;\n",
       "    }\n",
       "\n",
       "    .dataframe thead th {\n",
       "        text-align: right;\n",
       "    }\n",
       "</style>\n",
       "<table border=\"1\" class=\"dataframe\">\n",
       "  <thead>\n",
       "    <tr style=\"text-align: right;\">\n",
       "      <th></th>\n",
       "      <th>economy</th>\n",
       "      <th>economycode</th>\n",
       "      <th>regionwb</th>\n",
       "      <th>pop_adult</th>\n",
       "      <th>wpid_random</th>\n",
       "      <th>wgt</th>\n",
       "      <th>female</th>\n",
       "      <th>age</th>\n",
       "      <th>educ</th>\n",
       "      <th>inc_q</th>\n",
       "      <th>...</th>\n",
       "      <th>receive_wages</th>\n",
       "      <th>receive_transfers</th>\n",
       "      <th>receive_pension</th>\n",
       "      <th>receive_agriculture</th>\n",
       "      <th>pay_utilities</th>\n",
       "      <th>remittances</th>\n",
       "      <th>pay_onlne</th>\n",
       "      <th>pay_onlne_mobintbuy</th>\n",
       "      <th>pay_cash</th>\n",
       "      <th>pay_cash_mobintbuy</th>\n",
       "    </tr>\n",
       "  </thead>\n",
       "  <tbody>\n",
       "    <tr>\n",
       "      <th>114292</th>\n",
       "      <td>Philippines</td>\n",
       "      <td>PHL</td>\n",
       "      <td>East Asia &amp; Pacific (excluding high income)</td>\n",
       "      <td>70293928.0</td>\n",
       "      <td>180129353</td>\n",
       "      <td>0.261434</td>\n",
       "      <td>2</td>\n",
       "      <td>66.0</td>\n",
       "      <td>1.0</td>\n",
       "      <td>1</td>\n",
       "      <td>...</td>\n",
       "      <td>4</td>\n",
       "      <td>2</td>\n",
       "      <td>2</td>\n",
       "      <td>4.0</td>\n",
       "      <td>2</td>\n",
       "      <td>3.0</td>\n",
       "      <td>0.0</td>\n",
       "      <td>NaN</td>\n",
       "      <td>0.0</td>\n",
       "      <td>NaN</td>\n",
       "    </tr>\n",
       "    <tr>\n",
       "      <th>114293</th>\n",
       "      <td>Philippines</td>\n",
       "      <td>PHL</td>\n",
       "      <td>East Asia &amp; Pacific (excluding high income)</td>\n",
       "      <td>70293928.0</td>\n",
       "      <td>171987745</td>\n",
       "      <td>0.424916</td>\n",
       "      <td>2</td>\n",
       "      <td>24.0</td>\n",
       "      <td>3.0</td>\n",
       "      <td>5</td>\n",
       "      <td>...</td>\n",
       "      <td>1</td>\n",
       "      <td>4</td>\n",
       "      <td>4</td>\n",
       "      <td>4.0</td>\n",
       "      <td>4</td>\n",
       "      <td>1.0</td>\n",
       "      <td>0.0</td>\n",
       "      <td>0.0</td>\n",
       "      <td>1.0</td>\n",
       "      <td>1.0</td>\n",
       "    </tr>\n",
       "    <tr>\n",
       "      <th>114294</th>\n",
       "      <td>Philippines</td>\n",
       "      <td>PHL</td>\n",
       "      <td>East Asia &amp; Pacific (excluding high income)</td>\n",
       "      <td>70293928.0</td>\n",
       "      <td>178228576</td>\n",
       "      <td>0.732469</td>\n",
       "      <td>2</td>\n",
       "      <td>88.0</td>\n",
       "      <td>1.0</td>\n",
       "      <td>4</td>\n",
       "      <td>...</td>\n",
       "      <td>4</td>\n",
       "      <td>2</td>\n",
       "      <td>2</td>\n",
       "      <td>4.0</td>\n",
       "      <td>2</td>\n",
       "      <td>5.0</td>\n",
       "      <td>0.0</td>\n",
       "      <td>NaN</td>\n",
       "      <td>0.0</td>\n",
       "      <td>NaN</td>\n",
       "    </tr>\n",
       "    <tr>\n",
       "      <th>114295</th>\n",
       "      <td>Philippines</td>\n",
       "      <td>PHL</td>\n",
       "      <td>East Asia &amp; Pacific (excluding high income)</td>\n",
       "      <td>70293928.0</td>\n",
       "      <td>193725076</td>\n",
       "      <td>0.388121</td>\n",
       "      <td>2</td>\n",
       "      <td>30.0</td>\n",
       "      <td>2.0</td>\n",
       "      <td>5</td>\n",
       "      <td>...</td>\n",
       "      <td>4</td>\n",
       "      <td>4</td>\n",
       "      <td>4</td>\n",
       "      <td>4.0</td>\n",
       "      <td>2</td>\n",
       "      <td>5.0</td>\n",
       "      <td>0.0</td>\n",
       "      <td>NaN</td>\n",
       "      <td>0.0</td>\n",
       "      <td>NaN</td>\n",
       "    </tr>\n",
       "    <tr>\n",
       "      <th>114296</th>\n",
       "      <td>Philippines</td>\n",
       "      <td>PHL</td>\n",
       "      <td>East Asia &amp; Pacific (excluding high income)</td>\n",
       "      <td>70293928.0</td>\n",
       "      <td>194711242</td>\n",
       "      <td>2.333196</td>\n",
       "      <td>2</td>\n",
       "      <td>33.0</td>\n",
       "      <td>3.0</td>\n",
       "      <td>5</td>\n",
       "      <td>...</td>\n",
       "      <td>1</td>\n",
       "      <td>1</td>\n",
       "      <td>4</td>\n",
       "      <td>2.0</td>\n",
       "      <td>2</td>\n",
       "      <td>1.0</td>\n",
       "      <td>0.0</td>\n",
       "      <td>NaN</td>\n",
       "      <td>0.0</td>\n",
       "      <td>NaN</td>\n",
       "    </tr>\n",
       "    <tr>\n",
       "      <th>...</th>\n",
       "      <td>...</td>\n",
       "      <td>...</td>\n",
       "      <td>...</td>\n",
       "      <td>...</td>\n",
       "      <td>...</td>\n",
       "      <td>...</td>\n",
       "      <td>...</td>\n",
       "      <td>...</td>\n",
       "      <td>...</td>\n",
       "      <td>...</td>\n",
       "      <td>...</td>\n",
       "      <td>...</td>\n",
       "      <td>...</td>\n",
       "      <td>...</td>\n",
       "      <td>...</td>\n",
       "      <td>...</td>\n",
       "      <td>...</td>\n",
       "      <td>...</td>\n",
       "      <td>...</td>\n",
       "      <td>...</td>\n",
       "      <td>...</td>\n",
       "    </tr>\n",
       "    <tr>\n",
       "      <th>115287</th>\n",
       "      <td>Philippines</td>\n",
       "      <td>PHL</td>\n",
       "      <td>East Asia &amp; Pacific (excluding high income)</td>\n",
       "      <td>70293928.0</td>\n",
       "      <td>151988960</td>\n",
       "      <td>1.249522</td>\n",
       "      <td>1</td>\n",
       "      <td>27.0</td>\n",
       "      <td>2.0</td>\n",
       "      <td>1</td>\n",
       "      <td>...</td>\n",
       "      <td>2</td>\n",
       "      <td>4</td>\n",
       "      <td>4</td>\n",
       "      <td>2.0</td>\n",
       "      <td>2</td>\n",
       "      <td>5.0</td>\n",
       "      <td>0.0</td>\n",
       "      <td>NaN</td>\n",
       "      <td>0.0</td>\n",
       "      <td>NaN</td>\n",
       "    </tr>\n",
       "    <tr>\n",
       "      <th>115288</th>\n",
       "      <td>Philippines</td>\n",
       "      <td>PHL</td>\n",
       "      <td>East Asia &amp; Pacific (excluding high income)</td>\n",
       "      <td>70293928.0</td>\n",
       "      <td>138300933</td>\n",
       "      <td>0.697020</td>\n",
       "      <td>1</td>\n",
       "      <td>68.0</td>\n",
       "      <td>1.0</td>\n",
       "      <td>1</td>\n",
       "      <td>...</td>\n",
       "      <td>4</td>\n",
       "      <td>4</td>\n",
       "      <td>4</td>\n",
       "      <td>4.0</td>\n",
       "      <td>4</td>\n",
       "      <td>5.0</td>\n",
       "      <td>0.0</td>\n",
       "      <td>NaN</td>\n",
       "      <td>0.0</td>\n",
       "      <td>NaN</td>\n",
       "    </tr>\n",
       "    <tr>\n",
       "      <th>115289</th>\n",
       "      <td>Philippines</td>\n",
       "      <td>PHL</td>\n",
       "      <td>East Asia &amp; Pacific (excluding high income)</td>\n",
       "      <td>70293928.0</td>\n",
       "      <td>134514859</td>\n",
       "      <td>2.614345</td>\n",
       "      <td>2</td>\n",
       "      <td>18.0</td>\n",
       "      <td>2.0</td>\n",
       "      <td>4</td>\n",
       "      <td>...</td>\n",
       "      <td>2</td>\n",
       "      <td>4</td>\n",
       "      <td>4</td>\n",
       "      <td>4.0</td>\n",
       "      <td>4</td>\n",
       "      <td>2.0</td>\n",
       "      <td>0.0</td>\n",
       "      <td>0.0</td>\n",
       "      <td>1.0</td>\n",
       "      <td>1.0</td>\n",
       "    </tr>\n",
       "    <tr>\n",
       "      <th>115290</th>\n",
       "      <td>Philippines</td>\n",
       "      <td>PHL</td>\n",
       "      <td>East Asia &amp; Pacific (excluding high income)</td>\n",
       "      <td>70293928.0</td>\n",
       "      <td>145841428</td>\n",
       "      <td>1.916246</td>\n",
       "      <td>1</td>\n",
       "      <td>20.0</td>\n",
       "      <td>2.0</td>\n",
       "      <td>4</td>\n",
       "      <td>...</td>\n",
       "      <td>2</td>\n",
       "      <td>4</td>\n",
       "      <td>4</td>\n",
       "      <td>4.0</td>\n",
       "      <td>2</td>\n",
       "      <td>2.0</td>\n",
       "      <td>0.0</td>\n",
       "      <td>NaN</td>\n",
       "      <td>0.0</td>\n",
       "      <td>NaN</td>\n",
       "    </tr>\n",
       "    <tr>\n",
       "      <th>115291</th>\n",
       "      <td>Philippines</td>\n",
       "      <td>PHL</td>\n",
       "      <td>East Asia &amp; Pacific (excluding high income)</td>\n",
       "      <td>70293928.0</td>\n",
       "      <td>208872557</td>\n",
       "      <td>0.435442</td>\n",
       "      <td>1</td>\n",
       "      <td>27.0</td>\n",
       "      <td>1.0</td>\n",
       "      <td>1</td>\n",
       "      <td>...</td>\n",
       "      <td>2</td>\n",
       "      <td>4</td>\n",
       "      <td>4</td>\n",
       "      <td>2.0</td>\n",
       "      <td>4</td>\n",
       "      <td>2.0</td>\n",
       "      <td>0.0</td>\n",
       "      <td>NaN</td>\n",
       "      <td>0.0</td>\n",
       "      <td>NaN</td>\n",
       "    </tr>\n",
       "  </tbody>\n",
       "</table>\n",
       "<p>1000 rows × 105 columns</p>\n",
       "</div>"
      ],
      "text/plain": [
       "            economy economycode                                     regionwb  \\\n",
       "114292  Philippines         PHL  East Asia & Pacific (excluding high income)   \n",
       "114293  Philippines         PHL  East Asia & Pacific (excluding high income)   \n",
       "114294  Philippines         PHL  East Asia & Pacific (excluding high income)   \n",
       "114295  Philippines         PHL  East Asia & Pacific (excluding high income)   \n",
       "114296  Philippines         PHL  East Asia & Pacific (excluding high income)   \n",
       "...             ...         ...                                          ...   \n",
       "115287  Philippines         PHL  East Asia & Pacific (excluding high income)   \n",
       "115288  Philippines         PHL  East Asia & Pacific (excluding high income)   \n",
       "115289  Philippines         PHL  East Asia & Pacific (excluding high income)   \n",
       "115290  Philippines         PHL  East Asia & Pacific (excluding high income)   \n",
       "115291  Philippines         PHL  East Asia & Pacific (excluding high income)   \n",
       "\n",
       "         pop_adult  wpid_random       wgt  female   age  educ  inc_q  ...  \\\n",
       "114292  70293928.0    180129353  0.261434       2  66.0   1.0      1  ...   \n",
       "114293  70293928.0    171987745  0.424916       2  24.0   3.0      5  ...   \n",
       "114294  70293928.0    178228576  0.732469       2  88.0   1.0      4  ...   \n",
       "114295  70293928.0    193725076  0.388121       2  30.0   2.0      5  ...   \n",
       "114296  70293928.0    194711242  2.333196       2  33.0   3.0      5  ...   \n",
       "...            ...          ...       ...     ...   ...   ...    ...  ...   \n",
       "115287  70293928.0    151988960  1.249522       1  27.0   2.0      1  ...   \n",
       "115288  70293928.0    138300933  0.697020       1  68.0   1.0      1  ...   \n",
       "115289  70293928.0    134514859  2.614345       2  18.0   2.0      4  ...   \n",
       "115290  70293928.0    145841428  1.916246       1  20.0   2.0      4  ...   \n",
       "115291  70293928.0    208872557  0.435442       1  27.0   1.0      1  ...   \n",
       "\n",
       "        receive_wages  receive_transfers  receive_pension  \\\n",
       "114292              4                  2                2   \n",
       "114293              1                  4                4   \n",
       "114294              4                  2                2   \n",
       "114295              4                  4                4   \n",
       "114296              1                  1                4   \n",
       "...               ...                ...              ...   \n",
       "115287              2                  4                4   \n",
       "115288              4                  4                4   \n",
       "115289              2                  4                4   \n",
       "115290              2                  4                4   \n",
       "115291              2                  4                4   \n",
       "\n",
       "        receive_agriculture  pay_utilities  remittances  pay_onlne  \\\n",
       "114292                  4.0              2          3.0        0.0   \n",
       "114293                  4.0              4          1.0        0.0   \n",
       "114294                  4.0              2          5.0        0.0   \n",
       "114295                  4.0              2          5.0        0.0   \n",
       "114296                  2.0              2          1.0        0.0   \n",
       "...                     ...            ...          ...        ...   \n",
       "115287                  2.0              2          5.0        0.0   \n",
       "115288                  4.0              4          5.0        0.0   \n",
       "115289                  4.0              4          2.0        0.0   \n",
       "115290                  4.0              2          2.0        0.0   \n",
       "115291                  2.0              4          2.0        0.0   \n",
       "\n",
       "        pay_onlne_mobintbuy  pay_cash  pay_cash_mobintbuy  \n",
       "114292                  NaN       0.0                 NaN  \n",
       "114293                  0.0       1.0                 1.0  \n",
       "114294                  NaN       0.0                 NaN  \n",
       "114295                  NaN       0.0                 NaN  \n",
       "114296                  NaN       0.0                 NaN  \n",
       "...                     ...       ...                 ...  \n",
       "115287                  NaN       0.0                 NaN  \n",
       "115288                  NaN       0.0                 NaN  \n",
       "115289                  0.0       1.0                 1.0  \n",
       "115290                  NaN       0.0                 NaN  \n",
       "115291                  NaN       0.0                 NaN  \n",
       "\n",
       "[1000 rows x 105 columns]"
      ]
     },
     "execution_count": 244,
     "metadata": {},
     "output_type": "execute_result"
    }
   ],
   "source": [
    "# Show Philippine data\n",
    "philippine_data"
   ]
  },
  {
   "cell_type": "code",
   "execution_count": 245,
   "id": "a2b67fd3",
   "metadata": {},
   "outputs": [],
   "source": [
    "# Filter data\n",
    "cluster_data = philippine_data[\n",
    "    [\n",
    "        'inc_q',\n",
    "        'saved',\n",
    "        'account',\n",
    "        'emp_in',\n",
    "        'mobileowner'\n",
    "    ]\n",
    "]"
   ]
  },
  {
   "cell_type": "code",
   "execution_count": 246,
   "id": "ffe32a00",
   "metadata": {},
   "outputs": [
    {
     "data": {
      "text/plain": [
       "1    595\n",
       "0    405\n",
       "Name: saved, dtype: int64"
      ]
     },
     "execution_count": 246,
     "metadata": {},
     "output_type": "execute_result"
    }
   ],
   "source": [
    "#check distribution of those who has saved/did not saved\n",
    "cluster_data['saved'].value_counts()"
   ]
  },
  {
   "cell_type": "code",
   "execution_count": 247,
   "id": "b0bd584d",
   "metadata": {},
   "outputs": [
    {
     "data": {
      "text/plain": [
       "0    632\n",
       "1    368\n",
       "Name: account, dtype: int64"
      ]
     },
     "execution_count": 247,
     "metadata": {},
     "output_type": "execute_result"
    }
   ],
   "source": [
    "#check distribution of those who has an account/not\n",
    "cluster_data['account'].value_counts()"
   ]
  },
  {
   "cell_type": "code",
   "execution_count": 248,
   "id": "e77832ce",
   "metadata": {},
   "outputs": [
    {
     "data": {
      "text/plain": [
       "1.0    646\n",
       "0.0    354\n",
       "Name: emp_in, dtype: int64"
      ]
     },
     "execution_count": 248,
     "metadata": {},
     "output_type": "execute_result"
    }
   ],
   "source": [
    "#check distribution of those who are employed\n",
    "cluster_data['emp_in'].value_counts()"
   ]
  },
  {
   "cell_type": "code",
   "execution_count": 249,
   "id": "a9cd2203",
   "metadata": {},
   "outputs": [
    {
     "data": {
      "text/plain": [
       "5    228\n",
       "4    209\n",
       "3    203\n",
       "1    192\n",
       "2    168\n",
       "Name: inc_q, dtype: int64"
      ]
     },
     "execution_count": 249,
     "metadata": {},
     "output_type": "execute_result"
    }
   ],
   "source": [
    "#check distribution of income group\n",
    "cluster_data['inc_q'].value_counts()"
   ]
  },
  {
   "cell_type": "code",
   "execution_count": 250,
   "id": "53166014",
   "metadata": {},
   "outputs": [
    {
     "data": {
      "text/plain": [
       "1.0    755\n",
       "2.0    243\n",
       "3.0      1\n",
       "4.0      1\n",
       "Name: mobileowner, dtype: int64"
      ]
     },
     "execution_count": 250,
     "metadata": {},
     "output_type": "execute_result"
    }
   ],
   "source": [
    "#check distribution of those with mobile phones\n",
    "cluster_data['mobileowner'].value_counts()"
   ]
  },
  {
   "cell_type": "code",
   "execution_count": 251,
   "id": "7e7e6d94",
   "metadata": {},
   "outputs": [],
   "source": [
    "# Create dictionaries for mapping\n",
    "income_group_mapping = {\n",
    "    1:'poorest 20%',\n",
    "    2:'second 20%',\n",
    "    3:'middle 20%',\n",
    "    4:'fourth 20%',\n",
    "    5:'richest 20%'\n",
    "}\n",
    "employment_group = {\n",
    "    0:'out of workforce',\n",
    "    1:'in workforce'\n",
    "}\n",
    "\n",
    "saving_group_mapping = {\n",
    "    0:'did not saved',\n",
    "    1:'has saved'\n",
    "  \n",
    "}\n",
    "\n",
    "acccount_group_mapping = {\n",
    "    0:'does not have account',\n",
    "    1:'has account'\n",
    "  \n",
    "}\n",
    "\n",
    "mobilephone_ownership_mapping = {\n",
    "    1: 'yes',\n",
    "    2: 'no',\n",
    "    3: 'no',\n",
    "    4: 'no'\n",
    "}"
   ]
  },
  {
   "cell_type": "code",
   "execution_count": 252,
   "id": "42893780",
   "metadata": {},
   "outputs": [],
   "source": [
    "cluster_data = cluster_data.replace(\n",
    "{ 'inc_q': income_group_mapping,\n",
    " 'emp_in': employment_group,\n",
    " 'saved': saving_group_mapping,\n",
    " 'account': acccount_group_mapping,\n",
    " 'mobileowner': mobilephone_ownership_mapping\n",
    "})"
   ]
  },
  {
   "cell_type": "code",
   "execution_count": 253,
   "id": "72d61715",
   "metadata": {},
   "outputs": [
    {
     "data": {
      "text/html": [
       "<div>\n",
       "<style scoped>\n",
       "    .dataframe tbody tr th:only-of-type {\n",
       "        vertical-align: middle;\n",
       "    }\n",
       "\n",
       "    .dataframe tbody tr th {\n",
       "        vertical-align: top;\n",
       "    }\n",
       "\n",
       "    .dataframe thead th {\n",
       "        text-align: right;\n",
       "    }\n",
       "</style>\n",
       "<table border=\"1\" class=\"dataframe\">\n",
       "  <thead>\n",
       "    <tr style=\"text-align: right;\">\n",
       "      <th></th>\n",
       "      <th>inc_q</th>\n",
       "      <th>saved</th>\n",
       "      <th>account</th>\n",
       "      <th>emp_in</th>\n",
       "      <th>mobileowner</th>\n",
       "    </tr>\n",
       "  </thead>\n",
       "  <tbody>\n",
       "    <tr>\n",
       "      <th>114292</th>\n",
       "      <td>poorest 20%</td>\n",
       "      <td>has saved</td>\n",
       "      <td>does not have account</td>\n",
       "      <td>out of workforce</td>\n",
       "      <td>no</td>\n",
       "    </tr>\n",
       "    <tr>\n",
       "      <th>114293</th>\n",
       "      <td>richest 20%</td>\n",
       "      <td>has saved</td>\n",
       "      <td>has account</td>\n",
       "      <td>in workforce</td>\n",
       "      <td>yes</td>\n",
       "    </tr>\n",
       "    <tr>\n",
       "      <th>114294</th>\n",
       "      <td>fourth 20%</td>\n",
       "      <td>has saved</td>\n",
       "      <td>has account</td>\n",
       "      <td>in workforce</td>\n",
       "      <td>no</td>\n",
       "    </tr>\n",
       "    <tr>\n",
       "      <th>114295</th>\n",
       "      <td>richest 20%</td>\n",
       "      <td>has saved</td>\n",
       "      <td>has account</td>\n",
       "      <td>in workforce</td>\n",
       "      <td>yes</td>\n",
       "    </tr>\n",
       "    <tr>\n",
       "      <th>114296</th>\n",
       "      <td>richest 20%</td>\n",
       "      <td>has saved</td>\n",
       "      <td>has account</td>\n",
       "      <td>in workforce</td>\n",
       "      <td>yes</td>\n",
       "    </tr>\n",
       "    <tr>\n",
       "      <th>...</th>\n",
       "      <td>...</td>\n",
       "      <td>...</td>\n",
       "      <td>...</td>\n",
       "      <td>...</td>\n",
       "      <td>...</td>\n",
       "    </tr>\n",
       "    <tr>\n",
       "      <th>115287</th>\n",
       "      <td>poorest 20%</td>\n",
       "      <td>did not saved</td>\n",
       "      <td>does not have account</td>\n",
       "      <td>in workforce</td>\n",
       "      <td>yes</td>\n",
       "    </tr>\n",
       "    <tr>\n",
       "      <th>115288</th>\n",
       "      <td>poorest 20%</td>\n",
       "      <td>did not saved</td>\n",
       "      <td>does not have account</td>\n",
       "      <td>out of workforce</td>\n",
       "      <td>no</td>\n",
       "    </tr>\n",
       "    <tr>\n",
       "      <th>115289</th>\n",
       "      <td>fourth 20%</td>\n",
       "      <td>has saved</td>\n",
       "      <td>does not have account</td>\n",
       "      <td>in workforce</td>\n",
       "      <td>yes</td>\n",
       "    </tr>\n",
       "    <tr>\n",
       "      <th>115290</th>\n",
       "      <td>fourth 20%</td>\n",
       "      <td>has saved</td>\n",
       "      <td>does not have account</td>\n",
       "      <td>in workforce</td>\n",
       "      <td>yes</td>\n",
       "    </tr>\n",
       "    <tr>\n",
       "      <th>115291</th>\n",
       "      <td>poorest 20%</td>\n",
       "      <td>has saved</td>\n",
       "      <td>does not have account</td>\n",
       "      <td>in workforce</td>\n",
       "      <td>yes</td>\n",
       "    </tr>\n",
       "  </tbody>\n",
       "</table>\n",
       "<p>1000 rows × 5 columns</p>\n",
       "</div>"
      ],
      "text/plain": [
       "              inc_q          saved                account            emp_in  \\\n",
       "114292  poorest 20%      has saved  does not have account  out of workforce   \n",
       "114293  richest 20%      has saved            has account      in workforce   \n",
       "114294   fourth 20%      has saved            has account      in workforce   \n",
       "114295  richest 20%      has saved            has account      in workforce   \n",
       "114296  richest 20%      has saved            has account      in workforce   \n",
       "...             ...            ...                    ...               ...   \n",
       "115287  poorest 20%  did not saved  does not have account      in workforce   \n",
       "115288  poorest 20%  did not saved  does not have account  out of workforce   \n",
       "115289   fourth 20%      has saved  does not have account      in workforce   \n",
       "115290   fourth 20%      has saved  does not have account      in workforce   \n",
       "115291  poorest 20%      has saved  does not have account      in workforce   \n",
       "\n",
       "       mobileowner  \n",
       "114292          no  \n",
       "114293         yes  \n",
       "114294          no  \n",
       "114295         yes  \n",
       "114296         yes  \n",
       "...            ...  \n",
       "115287         yes  \n",
       "115288          no  \n",
       "115289         yes  \n",
       "115290         yes  \n",
       "115291         yes  \n",
       "\n",
       "[1000 rows x 5 columns]"
      ]
     },
     "execution_count": 253,
     "metadata": {},
     "output_type": "execute_result"
    }
   ],
   "source": [
    "cluster_data"
   ]
  },
  {
   "cell_type": "code",
   "execution_count": 254,
   "id": "f2f305b0",
   "metadata": {},
   "outputs": [],
   "source": [
    "# Create clustering function\n",
    "def run_kmodes(n_clusters=None, cluster_data=None):\n",
    "  # Initialize clustering\n",
    "  kmodes = KModes(\n",
    "      init=\"random\",\n",
    "      n_clusters=n_clusters,\n",
    "      random_state=42\n",
    "      )\n",
    "  \n",
    "  # Apply clustering to the data\n",
    "  kmodes.fit(cluster_data)\n",
    "\n",
    "  # Print intertia\n",
    "  print(f\"Cost for n_clusters = {n_clusters}: {kmodes.cost_}\")\n",
    "\n",
    "  return kmodes.cost_, kmodes.labels_"
   ]
  },
  {
   "cell_type": "code",
   "execution_count": 255,
   "id": "74396b70",
   "metadata": {},
   "outputs": [],
   "source": [
    "# Create container for cost\n",
    "cost_values = []"
   ]
  },
  {
   "cell_type": "code",
   "execution_count": 256,
   "id": "5c9e7745",
   "metadata": {},
   "outputs": [
    {
     "name": "stdout",
     "output_type": "stream",
     "text": [
      "Cost for n_clusters = 1: 2144.0\n",
      "Cost for n_clusters = 2: 1615.0\n",
      "Cost for n_clusters = 3: 1319.0\n",
      "Cost for n_clusters = 4: 1186.0\n",
      "Cost for n_clusters = 5: 1076.0\n",
      "Cost for n_clusters = 6: 1013.0\n",
      "Cost for n_clusters = 7: 921.0\n",
      "Cost for n_clusters = 8: 873.0\n",
      "Cost for n_clusters = 9: 794.0\n",
      "Cost for n_clusters = 10: 758.0\n"
     ]
    }
   ],
   "source": [
    "# Run clustering and save inertia to our empty container\n",
    "for k in range(1, 11):\n",
    "  # Run our function\n",
    "  cost, labels = run_kmodes(\n",
    "    n_clusters=k,\n",
    "    cluster_data=cluster_data\n",
    "  )\n",
    "\n",
    "  # Save cost to our container\n",
    "  cost_values.append(cost)"
   ]
  },
  {
   "cell_type": "code",
   "execution_count": 257,
   "id": "78bdc734",
   "metadata": {},
   "outputs": [
    {
     "data": {
      "image/png": "[encoded data removed]",
      "text/plain": [
       "<Figure size 1200x600 with 1 Axes>"
      ]
     },
     "metadata": {
      "needs_background": "light"
     },
     "output_type": "display_data"
    }
   ],
   "source": [
    "# Set figure size\n",
    "plt.figure(figsize=(6,3)  , dpi=200)\n",
    "\n",
    "# Plot inertia vs number of clusters\n",
    "plt.plot(range(1, 11), cost_values)\n",
    "\n",
    "# Format plot\n",
    "plt.xticks(range(1, 11))\n",
    "plt.xlabel(\"Number of Clusters\")\n",
    "plt.ylabel(\"Cost\")\n",
    "\n",
    "# Show plot\n",
    "plt.show()"
   ]
  },
  {
   "cell_type": "code",
   "execution_count": 258,
   "id": "f05ca622",
   "metadata": {},
   "outputs": [
    {
     "name": "stdout",
     "output_type": "stream",
     "text": [
      "Cost for n_clusters = 5: 1076.0\n"
     ]
    }
   ],
   "source": [
    "# Run our K-Modes function for n_clusters=6\n",
    "cost, labels = run_kmodes(\n",
    "  n_clusters=5,\n",
    "  cluster_data=cluster_data\n",
    ")"
   ]
  },
  {
   "cell_type": "code",
   "execution_count": 259,
   "id": "cea15281",
   "metadata": {},
   "outputs": [],
   "source": [
    "# Append the labels to cluster data\n",
    "cluster_data['labels'] = labels"
   ]
  },
  {
   "cell_type": "code",
   "execution_count": 260,
   "id": "8a9f481e",
   "metadata": {},
   "outputs": [
    {
     "data": {
      "text/html": [
       "<div>\n",
       "<style scoped>\n",
       "    .dataframe tbody tr th:only-of-type {\n",
       "        vertical-align: middle;\n",
       "    }\n",
       "\n",
       "    .dataframe tbody tr th {\n",
       "        vertical-align: top;\n",
       "    }\n",
       "\n",
       "    .dataframe thead th {\n",
       "        text-align: right;\n",
       "    }\n",
       "</style>\n",
       "<table border=\"1\" class=\"dataframe\">\n",
       "  <thead>\n",
       "    <tr style=\"text-align: right;\">\n",
       "      <th></th>\n",
       "      <th>inc_q</th>\n",
       "      <th>saved</th>\n",
       "      <th>account</th>\n",
       "      <th>emp_in</th>\n",
       "      <th>mobileowner</th>\n",
       "      <th>labels</th>\n",
       "    </tr>\n",
       "  </thead>\n",
       "  <tbody>\n",
       "    <tr>\n",
       "      <th>114292</th>\n",
       "      <td>poorest 20%</td>\n",
       "      <td>has saved</td>\n",
       "      <td>does not have account</td>\n",
       "      <td>out of workforce</td>\n",
       "      <td>no</td>\n",
       "      <td>3</td>\n",
       "    </tr>\n",
       "    <tr>\n",
       "      <th>114293</th>\n",
       "      <td>richest 20%</td>\n",
       "      <td>has saved</td>\n",
       "      <td>has account</td>\n",
       "      <td>in workforce</td>\n",
       "      <td>yes</td>\n",
       "      <td>2</td>\n",
       "    </tr>\n",
       "    <tr>\n",
       "      <th>114294</th>\n",
       "      <td>fourth 20%</td>\n",
       "      <td>has saved</td>\n",
       "      <td>has account</td>\n",
       "      <td>in workforce</td>\n",
       "      <td>no</td>\n",
       "      <td>0</td>\n",
       "    </tr>\n",
       "    <tr>\n",
       "      <th>114295</th>\n",
       "      <td>richest 20%</td>\n",
       "      <td>has saved</td>\n",
       "      <td>has account</td>\n",
       "      <td>in workforce</td>\n",
       "      <td>yes</td>\n",
       "      <td>2</td>\n",
       "    </tr>\n",
       "    <tr>\n",
       "      <th>114296</th>\n",
       "      <td>richest 20%</td>\n",
       "      <td>has saved</td>\n",
       "      <td>has account</td>\n",
       "      <td>in workforce</td>\n",
       "      <td>yes</td>\n",
       "      <td>2</td>\n",
       "    </tr>\n",
       "    <tr>\n",
       "      <th>...</th>\n",
       "      <td>...</td>\n",
       "      <td>...</td>\n",
       "      <td>...</td>\n",
       "      <td>...</td>\n",
       "      <td>...</td>\n",
       "      <td>...</td>\n",
       "    </tr>\n",
       "    <tr>\n",
       "      <th>115287</th>\n",
       "      <td>poorest 20%</td>\n",
       "      <td>did not saved</td>\n",
       "      <td>does not have account</td>\n",
       "      <td>in workforce</td>\n",
       "      <td>yes</td>\n",
       "      <td>3</td>\n",
       "    </tr>\n",
       "    <tr>\n",
       "      <th>115288</th>\n",
       "      <td>poorest 20%</td>\n",
       "      <td>did not saved</td>\n",
       "      <td>does not have account</td>\n",
       "      <td>out of workforce</td>\n",
       "      <td>no</td>\n",
       "      <td>3</td>\n",
       "    </tr>\n",
       "    <tr>\n",
       "      <th>115289</th>\n",
       "      <td>fourth 20%</td>\n",
       "      <td>has saved</td>\n",
       "      <td>does not have account</td>\n",
       "      <td>in workforce</td>\n",
       "      <td>yes</td>\n",
       "      <td>0</td>\n",
       "    </tr>\n",
       "    <tr>\n",
       "      <th>115290</th>\n",
       "      <td>fourth 20%</td>\n",
       "      <td>has saved</td>\n",
       "      <td>does not have account</td>\n",
       "      <td>in workforce</td>\n",
       "      <td>yes</td>\n",
       "      <td>0</td>\n",
       "    </tr>\n",
       "    <tr>\n",
       "      <th>115291</th>\n",
       "      <td>poorest 20%</td>\n",
       "      <td>has saved</td>\n",
       "      <td>does not have account</td>\n",
       "      <td>in workforce</td>\n",
       "      <td>yes</td>\n",
       "      <td>0</td>\n",
       "    </tr>\n",
       "  </tbody>\n",
       "</table>\n",
       "<p>1000 rows × 6 columns</p>\n",
       "</div>"
      ],
      "text/plain": [
       "              inc_q          saved                account            emp_in  \\\n",
       "114292  poorest 20%      has saved  does not have account  out of workforce   \n",
       "114293  richest 20%      has saved            has account      in workforce   \n",
       "114294   fourth 20%      has saved            has account      in workforce   \n",
       "114295  richest 20%      has saved            has account      in workforce   \n",
       "114296  richest 20%      has saved            has account      in workforce   \n",
       "...             ...            ...                    ...               ...   \n",
       "115287  poorest 20%  did not saved  does not have account      in workforce   \n",
       "115288  poorest 20%  did not saved  does not have account  out of workforce   \n",
       "115289   fourth 20%      has saved  does not have account      in workforce   \n",
       "115290   fourth 20%      has saved  does not have account      in workforce   \n",
       "115291  poorest 20%      has saved  does not have account      in workforce   \n",
       "\n",
       "       mobileowner  labels  \n",
       "114292          no       3  \n",
       "114293         yes       2  \n",
       "114294          no       0  \n",
       "114295         yes       2  \n",
       "114296         yes       2  \n",
       "...            ...     ...  \n",
       "115287         yes       3  \n",
       "115288          no       3  \n",
       "115289         yes       0  \n",
       "115290         yes       0  \n",
       "115291         yes       0  \n",
       "\n",
       "[1000 rows x 6 columns]"
      ]
     },
     "execution_count": 260,
     "metadata": {},
     "output_type": "execute_result"
    }
   ],
   "source": [
    "cluster_data"
   ]
  },
  {
   "cell_type": "code",
   "execution_count": 261,
   "id": "da5c4823",
   "metadata": {},
   "outputs": [
    {
     "data": {
      "text/html": [
       "<div>\n",
       "<style scoped>\n",
       "    .dataframe tbody tr th:only-of-type {\n",
       "        vertical-align: middle;\n",
       "    }\n",
       "\n",
       "    .dataframe tbody tr th {\n",
       "        vertical-align: top;\n",
       "    }\n",
       "\n",
       "    .dataframe thead th {\n",
       "        text-align: right;\n",
       "    }\n",
       "</style>\n",
       "<table border=\"1\" class=\"dataframe\">\n",
       "  <thead>\n",
       "    <tr style=\"text-align: right;\">\n",
       "      <th></th>\n",
       "      <th>inc_q</th>\n",
       "      <th>saved</th>\n",
       "      <th>account</th>\n",
       "      <th>emp_in</th>\n",
       "      <th>mobileowner</th>\n",
       "    </tr>\n",
       "    <tr>\n",
       "      <th>labels</th>\n",
       "      <th></th>\n",
       "      <th></th>\n",
       "      <th></th>\n",
       "      <th></th>\n",
       "      <th></th>\n",
       "    </tr>\n",
       "  </thead>\n",
       "  <tbody>\n",
       "    <tr>\n",
       "      <th>0</th>\n",
       "      <td>fourth 20%</td>\n",
       "      <td>has saved</td>\n",
       "      <td>does not have account</td>\n",
       "      <td>in workforce</td>\n",
       "      <td>yes</td>\n",
       "    </tr>\n",
       "    <tr>\n",
       "      <th>1</th>\n",
       "      <td>middle 20%</td>\n",
       "      <td>did not saved</td>\n",
       "      <td>has account</td>\n",
       "      <td>in workforce</td>\n",
       "      <td>no</td>\n",
       "    </tr>\n",
       "    <tr>\n",
       "      <th>2</th>\n",
       "      <td>richest 20%</td>\n",
       "      <td>has saved</td>\n",
       "      <td>has account</td>\n",
       "      <td>in workforce</td>\n",
       "      <td>yes</td>\n",
       "    </tr>\n",
       "    <tr>\n",
       "      <th>3</th>\n",
       "      <td>poorest 20%</td>\n",
       "      <td>did not saved</td>\n",
       "      <td>does not have account</td>\n",
       "      <td>in workforce</td>\n",
       "      <td>no</td>\n",
       "    </tr>\n",
       "    <tr>\n",
       "      <th>4</th>\n",
       "      <td>middle 20%</td>\n",
       "      <td>did not saved</td>\n",
       "      <td>does not have account</td>\n",
       "      <td>out of workforce</td>\n",
       "      <td>yes</td>\n",
       "    </tr>\n",
       "  </tbody>\n",
       "</table>\n",
       "</div>"
      ],
      "text/plain": [
       "              inc_q          saved                account            emp_in  \\\n",
       "labels                                                                        \n",
       "0        fourth 20%      has saved  does not have account      in workforce   \n",
       "1        middle 20%  did not saved            has account      in workforce   \n",
       "2       richest 20%      has saved            has account      in workforce   \n",
       "3       poorest 20%  did not saved  does not have account      in workforce   \n",
       "4        middle 20%  did not saved  does not have account  out of workforce   \n",
       "\n",
       "       mobileowner  \n",
       "labels              \n",
       "0              yes  \n",
       "1               no  \n",
       "2              yes  \n",
       "3               no  \n",
       "4              yes  "
      ]
     },
     "execution_count": 261,
     "metadata": {},
     "output_type": "execute_result"
    }
   ],
   "source": [
    "# Inspect the characteristics \n",
    "cluster_data.groupby('labels').agg(pd.Series.mode)"
   ]
  },
  {
   "cell_type": "code",
   "execution_count": 262,
   "id": "9d640905",
   "metadata": {},
   "outputs": [
    {
     "data": {
      "text/plain": [
       "0    389\n",
       "2    216\n",
       "4    164\n",
       "3    153\n",
       "1     78\n",
       "Name: labels, dtype: int64"
      ]
     },
     "execution_count": 262,
     "metadata": {},
     "output_type": "execute_result"
    }
   ],
   "source": [
    "cluster_data['labels'].value_counts()"
   ]
  },
  {
   "cell_type": "code",
   "execution_count": 263,
   "id": "13ddd906",
   "metadata": {},
   "outputs": [
    {
     "data": {
      "text/html": [
       "<div>\n",
       "<style scoped>\n",
       "    .dataframe tbody tr th:only-of-type {\n",
       "        vertical-align: middle;\n",
       "    }\n",
       "\n",
       "    .dataframe tbody tr th {\n",
       "        vertical-align: top;\n",
       "    }\n",
       "\n",
       "    .dataframe thead th {\n",
       "        text-align: right;\n",
       "    }\n",
       "</style>\n",
       "<table border=\"1\" class=\"dataframe\">\n",
       "  <thead>\n",
       "    <tr style=\"text-align: right;\">\n",
       "      <th></th>\n",
       "      <th>fin11a</th>\n",
       "      <th>fin11b</th>\n",
       "      <th>fin11c</th>\n",
       "      <th>fin11d</th>\n",
       "      <th>fin11e</th>\n",
       "      <th>fin11f</th>\n",
       "      <th>fin11g</th>\n",
       "      <th>fin11h</th>\n",
       "    </tr>\n",
       "  </thead>\n",
       "  <tbody>\n",
       "    <tr>\n",
       "      <th>114292</th>\n",
       "      <td>1.0</td>\n",
       "      <td>1.0</td>\n",
       "      <td>1.0</td>\n",
       "      <td>2.0</td>\n",
       "      <td>2.0</td>\n",
       "      <td>2.0</td>\n",
       "      <td>3.0</td>\n",
       "      <td>2.0</td>\n",
       "    </tr>\n",
       "    <tr>\n",
       "      <th>114293</th>\n",
       "      <td>NaN</td>\n",
       "      <td>NaN</td>\n",
       "      <td>NaN</td>\n",
       "      <td>NaN</td>\n",
       "      <td>NaN</td>\n",
       "      <td>NaN</td>\n",
       "      <td>NaN</td>\n",
       "      <td>NaN</td>\n",
       "    </tr>\n",
       "    <tr>\n",
       "      <th>114294</th>\n",
       "      <td>NaN</td>\n",
       "      <td>NaN</td>\n",
       "      <td>NaN</td>\n",
       "      <td>NaN</td>\n",
       "      <td>NaN</td>\n",
       "      <td>NaN</td>\n",
       "      <td>NaN</td>\n",
       "      <td>NaN</td>\n",
       "    </tr>\n",
       "    <tr>\n",
       "      <th>114295</th>\n",
       "      <td>NaN</td>\n",
       "      <td>NaN</td>\n",
       "      <td>NaN</td>\n",
       "      <td>NaN</td>\n",
       "      <td>NaN</td>\n",
       "      <td>NaN</td>\n",
       "      <td>NaN</td>\n",
       "      <td>NaN</td>\n",
       "    </tr>\n",
       "    <tr>\n",
       "      <th>114296</th>\n",
       "      <td>NaN</td>\n",
       "      <td>NaN</td>\n",
       "      <td>NaN</td>\n",
       "      <td>NaN</td>\n",
       "      <td>NaN</td>\n",
       "      <td>NaN</td>\n",
       "      <td>NaN</td>\n",
       "      <td>NaN</td>\n",
       "    </tr>\n",
       "    <tr>\n",
       "      <th>...</th>\n",
       "      <td>...</td>\n",
       "      <td>...</td>\n",
       "      <td>...</td>\n",
       "      <td>...</td>\n",
       "      <td>...</td>\n",
       "      <td>...</td>\n",
       "      <td>...</td>\n",
       "      <td>...</td>\n",
       "    </tr>\n",
       "    <tr>\n",
       "      <th>115287</th>\n",
       "      <td>1.0</td>\n",
       "      <td>1.0</td>\n",
       "      <td>1.0</td>\n",
       "      <td>1.0</td>\n",
       "      <td>1.0</td>\n",
       "      <td>1.0</td>\n",
       "      <td>2.0</td>\n",
       "      <td>1.0</td>\n",
       "    </tr>\n",
       "    <tr>\n",
       "      <th>115288</th>\n",
       "      <td>1.0</td>\n",
       "      <td>1.0</td>\n",
       "      <td>1.0</td>\n",
       "      <td>3.0</td>\n",
       "      <td>2.0</td>\n",
       "      <td>1.0</td>\n",
       "      <td>2.0</td>\n",
       "      <td>1.0</td>\n",
       "    </tr>\n",
       "    <tr>\n",
       "      <th>115289</th>\n",
       "      <td>2.0</td>\n",
       "      <td>2.0</td>\n",
       "      <td>1.0</td>\n",
       "      <td>2.0</td>\n",
       "      <td>2.0</td>\n",
       "      <td>1.0</td>\n",
       "      <td>2.0</td>\n",
       "      <td>2.0</td>\n",
       "    </tr>\n",
       "    <tr>\n",
       "      <th>115290</th>\n",
       "      <td>2.0</td>\n",
       "      <td>2.0</td>\n",
       "      <td>2.0</td>\n",
       "      <td>2.0</td>\n",
       "      <td>2.0</td>\n",
       "      <td>1.0</td>\n",
       "      <td>2.0</td>\n",
       "      <td>1.0</td>\n",
       "    </tr>\n",
       "    <tr>\n",
       "      <th>115291</th>\n",
       "      <td>2.0</td>\n",
       "      <td>2.0</td>\n",
       "      <td>2.0</td>\n",
       "      <td>2.0</td>\n",
       "      <td>2.0</td>\n",
       "      <td>1.0</td>\n",
       "      <td>2.0</td>\n",
       "      <td>2.0</td>\n",
       "    </tr>\n",
       "  </tbody>\n",
       "</table>\n",
       "<p>1000 rows × 8 columns</p>\n",
       "</div>"
      ],
      "text/plain": [
       "        fin11a  fin11b  fin11c  fin11d  fin11e  fin11f  fin11g  fin11h\n",
       "114292     1.0     1.0     1.0     2.0     2.0     2.0     3.0     2.0\n",
       "114293     NaN     NaN     NaN     NaN     NaN     NaN     NaN     NaN\n",
       "114294     NaN     NaN     NaN     NaN     NaN     NaN     NaN     NaN\n",
       "114295     NaN     NaN     NaN     NaN     NaN     NaN     NaN     NaN\n",
       "114296     NaN     NaN     NaN     NaN     NaN     NaN     NaN     NaN\n",
       "...        ...     ...     ...     ...     ...     ...     ...     ...\n",
       "115287     1.0     1.0     1.0     1.0     1.0     1.0     2.0     1.0\n",
       "115288     1.0     1.0     1.0     3.0     2.0     1.0     2.0     1.0\n",
       "115289     2.0     2.0     1.0     2.0     2.0     1.0     2.0     2.0\n",
       "115290     2.0     2.0     2.0     2.0     2.0     1.0     2.0     1.0\n",
       "115291     2.0     2.0     2.0     2.0     2.0     1.0     2.0     2.0\n",
       "\n",
       "[1000 rows x 8 columns]"
      ]
     },
     "execution_count": 263,
     "metadata": {},
     "output_type": "execute_result"
    }
   ],
   "source": [
    "#Reasons for each cluster\n",
    "reasons = philippine_data[['fin11a', 'fin11b', 'fin11c', 'fin11d', 'fin11e', 'fin11f', 'fin11g', 'fin11h']]"
   ]
  },
  {
   "cell_type": "code",
   "execution_count": 264,
   "id": "3d68b604-d194-4b4c-9335-bc0a7b868fb9",
   "metadata": {},
   "outputs": [],
   "source": [
    "fin11a_mapping = {\n",
    "    1: 1,\n",
    "    2: 0,\n",
    "    3: 0,\n",
    "    4: 0\n",
    "}\n",
    "\n",
    "fin11b_mapping = {\n",
    "    1: 1,\n",
    "    2: 0,\n",
    "    3: 0,\n",
    "    4: 0\n",
    "}\n",
    "\n",
    "fin11c_mapping = {\n",
    "    1: 1,\n",
    "    2: 0,\n",
    "    3: 0,\n",
    "    4: 0\n",
    "}\n",
    "\n",
    "fin11d_mapping = {\n",
    "    1: 1,\n",
    "    2: 0,\n",
    "    3: 0,\n",
    "    4: 0\n",
    "}\n",
    "\n",
    "fin11e_mapping = {\n",
    "    1: 1,\n",
    "    2: 0,\n",
    "    3: 0,\n",
    "    4: 0\n",
    "}\n",
    "\n",
    "fin11f_mapping = {\n",
    "    1: 1,\n",
    "    2: 0,\n",
    "    3: 0,\n",
    "    4: 0\n",
    "}\n",
    "\n",
    "fin11g_mapping = {\n",
    "    1: 1,\n",
    "    2: 0,\n",
    "    3: 0,\n",
    "    4: 0\n",
    "}\n",
    "\n",
    "fin11h_mapping = {\n",
    "    1: 1,\n",
    "    2: 0,\n",
    "    3: 0,\n",
    "    4: 0\n",
    "}"
   ]
  },
  {
   "cell_type": "code",
   "execution_count": 265,
   "id": "2f1818f7-5b8f-44f5-b148-0b08801fa99d",
   "metadata": {},
   "outputs": [],
   "source": [
    "reasons = reasons.replace(\n",
    "{ 'fin11a': fin11a_mapping,\n",
    " 'fin11b': fin11b_mapping,\n",
    " 'fin11c': fin11c_mapping,\n",
    " 'fin11d': fin11d_mapping,\n",
    " 'fin11e': fin11e_mapping,\n",
    " 'fin11f': fin11f_mapping,\n",
    " 'fin11g': fin11g_mapping,\n",
    " 'fin11h': fin11h_mapping,\n",
    "})"
   ]
  },
  {
   "cell_type": "code",
   "execution_count": 266,
   "id": "e05cfe23-6a0c-4226-b5a2-14bfa4724121",
   "metadata": {},
   "outputs": [],
   "source": [
    "# Rename columns\n",
    "reasons = reasons.rename(\n",
    "    columns = {\n",
    "        'fin11a' : 'FI are too far away',\n",
    "        'fin11b' : 'FS are too expensive',\n",
    "        'fin11c': 'No necessary documentation',\n",
    "        'fin11d': 'No trust in FI',\n",
    "        'fin11e': 'Religious reasons',\n",
    "        'fin11f': 'Not enough money to use FI',\n",
    "        'fin11g': 'Family already has an account',\n",
    "        'fin11h': 'No need for formal FI'\n",
    "        }\n",
    ")"
   ]
  },
  {
   "cell_type": "code",
   "execution_count": 267,
   "id": "0ecb7625-5988-4e60-820a-4fff8fff4401",
   "metadata": {},
   "outputs": [],
   "source": [
    "cluster_data = cluster_data.join(reasons)"
   ]
  },
  {
   "cell_type": "code",
   "execution_count": 268,
   "id": "97fea070-dda4-4394-8106-81c61a26f746",
   "metadata": {},
   "outputs": [],
   "source": [
    "cluster_data = cluster_data.fillna(0)"
   ]
  },
  {
   "cell_type": "code",
   "execution_count": 479,
   "id": "47717397-c1c1-46e8-a010-f2d934057584",
   "metadata": {},
   "outputs": [
    {
     "data": {
      "text/html": [
       "<div>\n",
       "<style scoped>\n",
       "    .dataframe tbody tr th:only-of-type {\n",
       "        vertical-align: middle;\n",
       "    }\n",
       "\n",
       "    .dataframe tbody tr th {\n",
       "        vertical-align: top;\n",
       "    }\n",
       "\n",
       "    .dataframe thead th {\n",
       "        text-align: right;\n",
       "    }\n",
       "</style>\n",
       "<table border=\"1\" class=\"dataframe\">\n",
       "  <thead>\n",
       "    <tr style=\"text-align: right;\">\n",
       "      <th></th>\n",
       "      <th>labels</th>\n",
       "      <th>FI_are_too_far_away</th>\n",
       "      <th>FS_are_too_expensive</th>\n",
       "      <th>No_necessary_documentation</th>\n",
       "      <th>No_trust_in_FI</th>\n",
       "      <th>Religious_reasons</th>\n",
       "      <th>Not_enough_money_to_use_FI</th>\n",
       "      <th>Family_already_has_account</th>\n",
       "      <th>No_need_for_FS</th>\n",
       "      <th>Cluster_total</th>\n",
       "    </tr>\n",
       "  </thead>\n",
       "  <tbody>\n",
       "    <tr>\n",
       "      <th>0</th>\n",
       "      <td>0</td>\n",
       "      <td>144.0</td>\n",
       "      <td>177.0</td>\n",
       "      <td>151.0</td>\n",
       "      <td>65.0</td>\n",
       "      <td>41.0</td>\n",
       "      <td>228.0</td>\n",
       "      <td>93.0</td>\n",
       "      <td>143.0</td>\n",
       "      <td>389</td>\n",
       "    </tr>\n",
       "    <tr>\n",
       "      <th>1</th>\n",
       "      <td>1</td>\n",
       "      <td>9.0</td>\n",
       "      <td>11.0</td>\n",
       "      <td>9.0</td>\n",
       "      <td>5.0</td>\n",
       "      <td>2.0</td>\n",
       "      <td>16.0</td>\n",
       "      <td>6.0</td>\n",
       "      <td>8.0</td>\n",
       "      <td>78</td>\n",
       "    </tr>\n",
       "    <tr>\n",
       "      <th>2</th>\n",
       "      <td>2</td>\n",
       "      <td>7.0</td>\n",
       "      <td>15.0</td>\n",
       "      <td>11.0</td>\n",
       "      <td>7.0</td>\n",
       "      <td>5.0</td>\n",
       "      <td>17.0</td>\n",
       "      <td>10.0</td>\n",
       "      <td>13.0</td>\n",
       "      <td>216</td>\n",
       "    </tr>\n",
       "    <tr>\n",
       "      <th>3</th>\n",
       "      <td>3</td>\n",
       "      <td>71.0</td>\n",
       "      <td>89.0</td>\n",
       "      <td>66.0</td>\n",
       "      <td>36.0</td>\n",
       "      <td>29.0</td>\n",
       "      <td>105.0</td>\n",
       "      <td>28.0</td>\n",
       "      <td>55.0</td>\n",
       "      <td>153</td>\n",
       "    </tr>\n",
       "    <tr>\n",
       "      <th>4</th>\n",
       "      <td>4</td>\n",
       "      <td>52.0</td>\n",
       "      <td>78.0</td>\n",
       "      <td>70.0</td>\n",
       "      <td>33.0</td>\n",
       "      <td>18.0</td>\n",
       "      <td>111.0</td>\n",
       "      <td>39.0</td>\n",
       "      <td>57.0</td>\n",
       "      <td>164</td>\n",
       "    </tr>\n",
       "  </tbody>\n",
       "</table>\n",
       "</div>"
      ],
      "text/plain": [
       "   labels  FI_are_too_far_away  FS_are_too_expensive  \\\n",
       "0       0                144.0                 177.0   \n",
       "1       1                  9.0                  11.0   \n",
       "2       2                  7.0                  15.0   \n",
       "3       3                 71.0                  89.0   \n",
       "4       4                 52.0                  78.0   \n",
       "\n",
       "   No_necessary_documentation  No_trust_in_FI  Religious_reasons  \\\n",
       "0                       151.0            65.0               41.0   \n",
       "1                         9.0             5.0                2.0   \n",
       "2                        11.0             7.0                5.0   \n",
       "3                        66.0            36.0               29.0   \n",
       "4                        70.0            33.0               18.0   \n",
       "\n",
       "   Not_enough_money_to_use_FI  Family_already_has_account  No_need_for_FS  \\\n",
       "0                       228.0                        93.0           143.0   \n",
       "1                        16.0                         6.0             8.0   \n",
       "2                        17.0                        10.0            13.0   \n",
       "3                       105.0                        28.0            55.0   \n",
       "4                       111.0                        39.0            57.0   \n",
       "\n",
       "   Cluster_total  \n",
       "0            389  \n",
       "1             78  \n",
       "2            216  \n",
       "3            153  \n",
       "4            164  "
      ]
     },
     "execution_count": 479,
     "metadata": {},
     "output_type": "execute_result"
    }
   ],
   "source": [
    "reasons_table = cluster_data.groupby(['labels']).agg(\n",
    "    FI_are_too_far_away=('FI are too far away', 'sum'),\n",
    "    FS_are_too_expensive = ('FS are too expensive', 'sum'),\n",
    "    No_necessary_documentation = ('No necessary documentation', 'sum'),\n",
    "    No_trust_in_FI = ('No trust in FI', 'sum'),\n",
    "    Religious_reasons = ('Religious reasons', 'sum'),\n",
    "    Not_enough_money_to_use_FI = ('Not enough money to use FI', 'sum'),\n",
    "    Family_already_has_account = ('Family already has an account', 'sum'),\n",
    "    No_need_for_FS = ('No need for formal FI', 'sum'),\n",
    "    Cluster_total = ('inc_q', 'count')\n",
    ").reset_index()\n",
    "reasons_table"
   ]
  },
  {
   "cell_type": "code",
   "execution_count": 480,
   "id": "b152f67e-d3e6-4d7f-a198-49b9b0a2b804",
   "metadata": {},
   "outputs": [],
   "source": [
    "reasons_table = reasons_table[reasons_table['labels'].isin([0, 3, 4])]"
   ]
  },
  {
   "cell_type": "code",
   "execution_count": 481,
   "id": "8f178d04-a173-44a1-a96a-1f92863b9a0c",
   "metadata": {},
   "outputs": [
    {
     "data": {
      "text/html": [
       "<div>\n",
       "<style scoped>\n",
       "    .dataframe tbody tr th:only-of-type {\n",
       "        vertical-align: middle;\n",
       "    }\n",
       "\n",
       "    .dataframe tbody tr th {\n",
       "        vertical-align: top;\n",
       "    }\n",
       "\n",
       "    .dataframe thead th {\n",
       "        text-align: right;\n",
       "    }\n",
       "</style>\n",
       "<table border=\"1\" class=\"dataframe\">\n",
       "  <thead>\n",
       "    <tr style=\"text-align: right;\">\n",
       "      <th></th>\n",
       "      <th>Segment</th>\n",
       "      <th>FI_are_too_far_away</th>\n",
       "      <th>FS_are_too_expensive</th>\n",
       "      <th>No_necessary_documentation</th>\n",
       "      <th>No_trust_in_FI</th>\n",
       "      <th>Religious_reasons</th>\n",
       "      <th>Not_enough_money_to_use_FI</th>\n",
       "      <th>Family_already_has_account</th>\n",
       "      <th>No_need_for_FS</th>\n",
       "      <th>Cluster_total</th>\n",
       "    </tr>\n",
       "  </thead>\n",
       "  <tbody>\n",
       "    <tr>\n",
       "      <th>0</th>\n",
       "      <td>0</td>\n",
       "      <td>37.017995</td>\n",
       "      <td>45.501285</td>\n",
       "      <td>38.817481</td>\n",
       "      <td>16.709512</td>\n",
       "      <td>10.539846</td>\n",
       "      <td>58.611825</td>\n",
       "      <td>23.907455</td>\n",
       "      <td>36.760925</td>\n",
       "      <td>100.0</td>\n",
       "    </tr>\n",
       "    <tr>\n",
       "      <th>1</th>\n",
       "      <td>3</td>\n",
       "      <td>46.405229</td>\n",
       "      <td>58.169935</td>\n",
       "      <td>43.137255</td>\n",
       "      <td>23.529412</td>\n",
       "      <td>18.954248</td>\n",
       "      <td>68.627451</td>\n",
       "      <td>18.300654</td>\n",
       "      <td>35.947712</td>\n",
       "      <td>100.0</td>\n",
       "    </tr>\n",
       "    <tr>\n",
       "      <th>2</th>\n",
       "      <td>4</td>\n",
       "      <td>31.707317</td>\n",
       "      <td>47.560976</td>\n",
       "      <td>42.682927</td>\n",
       "      <td>20.121951</td>\n",
       "      <td>10.975610</td>\n",
       "      <td>67.682927</td>\n",
       "      <td>23.780488</td>\n",
       "      <td>34.756098</td>\n",
       "      <td>100.0</td>\n",
       "    </tr>\n",
       "  </tbody>\n",
       "</table>\n",
       "</div>"
      ],
      "text/plain": [
       "   Segment  FI_are_too_far_away  FS_are_too_expensive  \\\n",
       "0        0            37.017995             45.501285   \n",
       "1        3            46.405229             58.169935   \n",
       "2        4            31.707317             47.560976   \n",
       "\n",
       "   No_necessary_documentation  No_trust_in_FI  Religious_reasons  \\\n",
       "0                   38.817481       16.709512          10.539846   \n",
       "1                   43.137255       23.529412          18.954248   \n",
       "2                   42.682927       20.121951          10.975610   \n",
       "\n",
       "   Not_enough_money_to_use_FI  Family_already_has_account  No_need_for_FS  \\\n",
       "0                   58.611825                   23.907455       36.760925   \n",
       "1                   68.627451                   18.300654       35.947712   \n",
       "2                   67.682927                   23.780488       34.756098   \n",
       "\n",
       "   Cluster_total  \n",
       "0          100.0  \n",
       "1          100.0  \n",
       "2          100.0  "
      ]
     },
     "execution_count": 481,
     "metadata": {},
     "output_type": "execute_result"
    }
   ],
   "source": [
    "reasons_percent= reasons_table.iloc[:, 1:].div(reasons_table['Cluster_total'], axis = 0)*100\n",
    "reasons_percent = reasons_percent.reset_index().rename(columns={'index': 'Segment'})\n",
    "reasons_percent"
   ]
  },
  {
   "cell_type": "code",
   "execution_count": 482,
   "id": "3979b94e-cbfc-4f86-a8ce-183d3126e9cc",
   "metadata": {},
   "outputs": [],
   "source": [
    "reasons = reasons_percent.melt(\n",
    "    id_vars= ['Segment'],\n",
    "    value_vars=['FI_are_too_far_away', 'FS_are_too_expensive', 'No_necessary_documentation', 'No_trust_in_FI', 'Religious_reasons', 'Not_enough_money_to_use_FI',\n",
    "               'Family_already_has_account', 'No_need_for_FS' ]\n",
    ")"
   ]
  },
  {
   "cell_type": "code",
   "execution_count": 484,
   "id": "21440fae-7457-446a-a9bc-0d804ceb9ca2",
   "metadata": {},
   "outputs": [],
   "source": [
    "reasons = reasons.replace(\n",
    "{\n",
    "        'FI_are_too_far_away' : 'FI are too far away',\n",
    "        'FS_are_too_expensive' : 'FS are too expensive',\n",
    "        'No_necessary_documentation' : 'No necessary documentation',\n",
    "        'No_trust_in_FI' : 'No trust in FI',\n",
    "        'Religious_reasons': 'Religious reasons',\n",
    "        'Not_enough_money_to_use_FI': 'Not enough money to use FI',\n",
    "        'Family_already_has_account': 'Family already has an account',\n",
    "        'No_need_for_FS': 'No need for formal FI'\n",
    "        }\n",
    ")"
   ]
  },
  {
   "cell_type": "code",
   "execution_count": 485,
   "id": "578023e2-49ef-4b81-bd82-57821ff0f10f",
   "metadata": {},
   "outputs": [
    {
     "data": {
      "text/html": [
       "<div>\n",
       "<style scoped>\n",
       "    .dataframe tbody tr th:only-of-type {\n",
       "        vertical-align: middle;\n",
       "    }\n",
       "\n",
       "    .dataframe tbody tr th {\n",
       "        vertical-align: top;\n",
       "    }\n",
       "\n",
       "    .dataframe thead th {\n",
       "        text-align: right;\n",
       "    }\n",
       "</style>\n",
       "<table border=\"1\" class=\"dataframe\">\n",
       "  <thead>\n",
       "    <tr style=\"text-align: right;\">\n",
       "      <th></th>\n",
       "      <th>Segment</th>\n",
       "      <th>variable</th>\n",
       "      <th>value</th>\n",
       "    </tr>\n",
       "  </thead>\n",
       "  <tbody>\n",
       "    <tr>\n",
       "      <th>0</th>\n",
       "      <td>Cash Savers</td>\n",
       "      <td>FI are too far away</td>\n",
       "      <td>37.017995</td>\n",
       "    </tr>\n",
       "    <tr>\n",
       "      <th>1</th>\n",
       "      <td>Underserved and Vulnerable</td>\n",
       "      <td>FI are too far away</td>\n",
       "      <td>46.405229</td>\n",
       "    </tr>\n",
       "    <tr>\n",
       "      <th>2</th>\n",
       "      <td>Supported</td>\n",
       "      <td>FI are too far away</td>\n",
       "      <td>31.707317</td>\n",
       "    </tr>\n",
       "    <tr>\n",
       "      <th>3</th>\n",
       "      <td>Cash Savers</td>\n",
       "      <td>FS are too expensive</td>\n",
       "      <td>45.501285</td>\n",
       "    </tr>\n",
       "    <tr>\n",
       "      <th>4</th>\n",
       "      <td>Underserved and Vulnerable</td>\n",
       "      <td>FS are too expensive</td>\n",
       "      <td>58.169935</td>\n",
       "    </tr>\n",
       "    <tr>\n",
       "      <th>5</th>\n",
       "      <td>Supported</td>\n",
       "      <td>FS are too expensive</td>\n",
       "      <td>47.560976</td>\n",
       "    </tr>\n",
       "    <tr>\n",
       "      <th>6</th>\n",
       "      <td>Cash Savers</td>\n",
       "      <td>No necessary documentation</td>\n",
       "      <td>38.817481</td>\n",
       "    </tr>\n",
       "    <tr>\n",
       "      <th>7</th>\n",
       "      <td>Underserved and Vulnerable</td>\n",
       "      <td>No necessary documentation</td>\n",
       "      <td>43.137255</td>\n",
       "    </tr>\n",
       "    <tr>\n",
       "      <th>8</th>\n",
       "      <td>Supported</td>\n",
       "      <td>No necessary documentation</td>\n",
       "      <td>42.682927</td>\n",
       "    </tr>\n",
       "    <tr>\n",
       "      <th>9</th>\n",
       "      <td>Cash Savers</td>\n",
       "      <td>No trust in FI</td>\n",
       "      <td>16.709512</td>\n",
       "    </tr>\n",
       "    <tr>\n",
       "      <th>10</th>\n",
       "      <td>Underserved and Vulnerable</td>\n",
       "      <td>No trust in FI</td>\n",
       "      <td>23.529412</td>\n",
       "    </tr>\n",
       "    <tr>\n",
       "      <th>11</th>\n",
       "      <td>Supported</td>\n",
       "      <td>No trust in FI</td>\n",
       "      <td>20.121951</td>\n",
       "    </tr>\n",
       "    <tr>\n",
       "      <th>12</th>\n",
       "      <td>Cash Savers</td>\n",
       "      <td>Religious reasons</td>\n",
       "      <td>10.539846</td>\n",
       "    </tr>\n",
       "    <tr>\n",
       "      <th>13</th>\n",
       "      <td>Underserved and Vulnerable</td>\n",
       "      <td>Religious reasons</td>\n",
       "      <td>18.954248</td>\n",
       "    </tr>\n",
       "    <tr>\n",
       "      <th>14</th>\n",
       "      <td>Supported</td>\n",
       "      <td>Religious reasons</td>\n",
       "      <td>10.975610</td>\n",
       "    </tr>\n",
       "    <tr>\n",
       "      <th>15</th>\n",
       "      <td>Cash Savers</td>\n",
       "      <td>Not enough money to use FI</td>\n",
       "      <td>58.611825</td>\n",
       "    </tr>\n",
       "    <tr>\n",
       "      <th>16</th>\n",
       "      <td>Underserved and Vulnerable</td>\n",
       "      <td>Not enough money to use FI</td>\n",
       "      <td>68.627451</td>\n",
       "    </tr>\n",
       "    <tr>\n",
       "      <th>17</th>\n",
       "      <td>Supported</td>\n",
       "      <td>Not enough money to use FI</td>\n",
       "      <td>67.682927</td>\n",
       "    </tr>\n",
       "    <tr>\n",
       "      <th>18</th>\n",
       "      <td>Cash Savers</td>\n",
       "      <td>Family already has an account</td>\n",
       "      <td>23.907455</td>\n",
       "    </tr>\n",
       "    <tr>\n",
       "      <th>19</th>\n",
       "      <td>Underserved and Vulnerable</td>\n",
       "      <td>Family already has an account</td>\n",
       "      <td>18.300654</td>\n",
       "    </tr>\n",
       "    <tr>\n",
       "      <th>20</th>\n",
       "      <td>Supported</td>\n",
       "      <td>Family already has an account</td>\n",
       "      <td>23.780488</td>\n",
       "    </tr>\n",
       "    <tr>\n",
       "      <th>21</th>\n",
       "      <td>Cash Savers</td>\n",
       "      <td>No need for formal FI</td>\n",
       "      <td>36.760925</td>\n",
       "    </tr>\n",
       "    <tr>\n",
       "      <th>22</th>\n",
       "      <td>Underserved and Vulnerable</td>\n",
       "      <td>No need for formal FI</td>\n",
       "      <td>35.947712</td>\n",
       "    </tr>\n",
       "    <tr>\n",
       "      <th>23</th>\n",
       "      <td>Supported</td>\n",
       "      <td>No need for formal FI</td>\n",
       "      <td>34.756098</td>\n",
       "    </tr>\n",
       "  </tbody>\n",
       "</table>\n",
       "</div>"
      ],
      "text/plain": [
       "                       Segment                       variable      value\n",
       "0                  Cash Savers            FI are too far away  37.017995\n",
       "1   Underserved and Vulnerable            FI are too far away  46.405229\n",
       "2                    Supported            FI are too far away  31.707317\n",
       "3                  Cash Savers           FS are too expensive  45.501285\n",
       "4   Underserved and Vulnerable           FS are too expensive  58.169935\n",
       "5                    Supported           FS are too expensive  47.560976\n",
       "6                  Cash Savers     No necessary documentation  38.817481\n",
       "7   Underserved and Vulnerable     No necessary documentation  43.137255\n",
       "8                    Supported     No necessary documentation  42.682927\n",
       "9                  Cash Savers                 No trust in FI  16.709512\n",
       "10  Underserved and Vulnerable                 No trust in FI  23.529412\n",
       "11                   Supported                 No trust in FI  20.121951\n",
       "12                 Cash Savers              Religious reasons  10.539846\n",
       "13  Underserved and Vulnerable              Religious reasons  18.954248\n",
       "14                   Supported              Religious reasons  10.975610\n",
       "15                 Cash Savers     Not enough money to use FI  58.611825\n",
       "16  Underserved and Vulnerable     Not enough money to use FI  68.627451\n",
       "17                   Supported     Not enough money to use FI  67.682927\n",
       "18                 Cash Savers  Family already has an account  23.907455\n",
       "19  Underserved and Vulnerable  Family already has an account  18.300654\n",
       "20                   Supported  Family already has an account  23.780488\n",
       "21                 Cash Savers          No need for formal FI  36.760925\n",
       "22  Underserved and Vulnerable          No need for formal FI  35.947712\n",
       "23                   Supported          No need for formal FI  34.756098"
      ]
     },
     "execution_count": 485,
     "metadata": {},
     "output_type": "execute_result"
    }
   ],
   "source": [
    "reasons = reasons.replace(\n",
    "{\n",
    "        0 : 'Cash Savers',\n",
    "        3 : 'Underserved and Vulnerable',\n",
    "        4 : 'Supported'\n",
    "        }\n",
    ")\n",
    "reasons"
   ]
  },
  {
   "cell_type": "code",
   "execution_count": 493,
   "id": "939395bc-6444-4d4c-a290-2ae49bc9da80",
   "metadata": {},
   "outputs": [
    {
     "name": "stderr",
     "output_type": "stream",
     "text": [
      "/opt/anaconda3/lib/python3.9/site-packages/plotly/express/_core.py:271: FutureWarning:\n",
      "\n",
      "The frame.append method is deprecated and will be removed from pandas in a future version. Use pandas.concat instead.\n",
      "\n",
      "/opt/anaconda3/lib/python3.9/site-packages/plotly/express/_core.py:271: FutureWarning:\n",
      "\n",
      "The frame.append method is deprecated and will be removed from pandas in a future version. Use pandas.concat instead.\n",
      "\n",
      "/opt/anaconda3/lib/python3.9/site-packages/plotly/express/_core.py:271: FutureWarning:\n",
      "\n",
      "The frame.append method is deprecated and will be removed from pandas in a future version. Use pandas.concat instead.\n",
      "\n"
     ]
    },
    {
     "data": {
      "application/vnd.plotly.v1+json": {
       "config": {
        "plotlyServerURL": "https://plot.ly"
       },
       "data": [
        {
         "fill": "toself",
         "hovertemplate": "<b>%{hovertext}</b><br><br>Segment=Cash Savers<br>value=%{r}<br>variable=%{theta}<extra></extra>",
         "hovertext": [
          "Cash Savers",
          "Cash Savers",
          "Cash Savers",
          "Cash Savers",
          "Cash Savers",
          "Cash Savers",
          "Cash Savers",
          "Cash Savers",
          "Cash Savers"
         ],
         "legendgroup": "Cash Savers",
         "line": {
          "color": "#636efa",
          "dash": "solid",
          "shape": "linear"
         },
         "marker": {
          "symbol": "circle"
         },
         "mode": "lines+markers",
         "name": "Cash Savers",
         "r": [
          37.01799485861182,
          45.501285347043705,
          38.81748071979435,
          16.709511568123396,
          10.539845758354756,
          58.61182519280206,
          23.90745501285347,
          36.760925449871465,
          37.01799485861182
         ],
         "showlegend": true,
         "subplot": "polar",
         "theta": [
          "FI are too far away",
          "FS are too expensive",
          "No necessary documentation",
          "No trust in FI",
          "Religious reasons",
          "Not enough money to use FI",
          "Family already has an account",
          "No need for formal FI",
          "FI are too far away"
         ],
         "type": "scatterpolar"
        },
        {
         "fill": "toself",
         "hovertemplate": "<b>%{hovertext}</b><br><br>Segment=Underserved and Vulnerable<br>value=%{r}<br>variable=%{theta}<extra></extra>",
         "hovertext": [
          "Underserved and Vulnerable",
          "Underserved and Vulnerable",
          "Underserved and Vulnerable",
          "Underserved and Vulnerable",
          "Underserved and Vulnerable",
          "Underserved and Vulnerable",
          "Underserved and Vulnerable",
          "Underserved and Vulnerable",
          "Underserved and Vulnerable"
         ],
         "legendgroup": "Underserved and Vulnerable",
         "line": {
          "color": "#EF553B",
          "dash": "solid",
          "shape": "linear"
         },
         "marker": {
          "symbol": "circle"
         },
         "mode": "lines+markers",
         "name": "Underserved and Vulnerable",
         "r": [
          46.40522875816993,
          58.16993464052288,
          43.13725490196079,
          23.52941176470588,
          18.954248366013072,
          68.62745098039215,
          18.30065359477124,
          35.947712418300654,
          46.40522875816993
         ],
         "showlegend": true,
         "subplot": "polar",
         "theta": [
          "FI are too far away",
          "FS are too expensive",
          "No necessary documentation",
          "No trust in FI",
          "Religious reasons",
          "Not enough money to use FI",
          "Family already has an account",
          "No need for formal FI",
          "FI are too far away"
         ],
         "type": "scatterpolar"
        },
        {
         "fill": "toself",
         "hovertemplate": "<b>%{hovertext}</b><br><br>Segment=Supported<br>value=%{r}<br>variable=%{theta}<extra></extra>",
         "hovertext": [
          "Supported",
          "Supported",
          "Supported",
          "Supported",
          "Supported",
          "Supported",
          "Supported",
          "Supported",
          "Supported"
         ],
         "legendgroup": "Supported",
         "line": {
          "color": "#00cc96",
          "dash": "solid",
          "shape": "linear"
         },
         "marker": {
          "symbol": "circle"
         },
         "mode": "lines+markers",
         "name": "Supported",
         "r": [
          31.70731707317073,
          47.5609756097561,
          42.68292682926829,
          20.121951219512198,
          10.975609756097562,
          67.6829268292683,
          23.78048780487805,
          34.756097560975604,
          31.70731707317073
         ],
         "showlegend": true,
         "subplot": "polar",
         "theta": [
          "FI are too far away",
          "FS are too expensive",
          "No necessary documentation",
          "No trust in FI",
          "Religious reasons",
          "Not enough money to use FI",
          "Family already has an account",
          "No need for formal FI",
          "FI are too far away"
         ],
         "type": "scatterpolar"
        }
       ],
       "layout": {
        "autosize": true,
        "legend": {
         "title": {
          "text": "Segment"
         },
         "tracegroupgap": 0
        },
        "polar": {
         "angularaxis": {
          "direction": "clockwise",
          "rotation": 45,
          "type": "category"
         },
         "domain": {
          "x": [
           0,
           1
          ],
          "y": [
           0,
           1
          ]
         },
         "radialaxis": {
          "autorange": true,
          "range": [
           0,
           71.61125319693095
          ],
          "type": "linear"
         }
        },
        "template": {
         "data": {
          "bar": [
           {
            "error_x": {
             "color": "#2a3f5f"
            },
            "error_y": {
             "color": "#2a3f5f"
            },
            "marker": {
             "line": {
              "color": "#E5ECF6",
              "width": 0.5
             },
             "pattern": {
              "fillmode": "overlay",
              "size": 10,
              "solidity": 0.2
             }
            },
            "type": "bar"
           }
          ],
          "barpolar": [
           {
            "marker": {
             "line": {
              "color": "#E5ECF6",
              "width": 0.5
             },
             "pattern": {
              "fillmode": "overlay",
              "size": 10,
              "solidity": 0.2
             }
            },
            "type": "barpolar"
           }
          ],
          "carpet": [
           {
            "aaxis": {
             "endlinecolor": "#2a3f5f",
             "gridcolor": "white",
             "linecolor": "white",
             "minorgridcolor": "white",
             "startlinecolor": "#2a3f5f"
            },
            "baxis": {
             "endlinecolor": "#2a3f5f",
             "gridcolor": "white",
             "linecolor": "white",
             "minorgridcolor": "white",
             "startlinecolor": "#2a3f5f"
            },
            "type": "carpet"
           }
          ],
          "choropleth": [
           {
            "colorbar": {
             "outlinewidth": 0,
             "ticks": ""
            },
            "type": "choropleth"
           }
          ],
          "contour": [
           {
            "colorbar": {
             "outlinewidth": 0,
             "ticks": ""
            },
            "colorscale": [
             [
              0,
              "#0d0887"
             ],
             [
              0.1111111111111111,
              "#46039f"
             ],
             [
              0.2222222222222222,
              "#7201a8"
             ],
             [
              0.3333333333333333,
              "#9c179e"
             ],
             [
              0.4444444444444444,
              "#bd3786"
             ],
             [
              0.5555555555555556,
              "#d8576b"
             ],
             [
              0.6666666666666666,
              "#ed7953"
             ],
             [
              0.7777777777777778,
              "#fb9f3a"
             ],
             [
              0.8888888888888888,
              "#fdca26"
             ],
             [
              1,
              "#f0f921"
             ]
            ],
            "type": "contour"
           }
          ],
          "contourcarpet": [
           {
            "colorbar": {
             "outlinewidth": 0,
             "ticks": ""
            },
            "type": "contourcarpet"
           }
          ],
          "heatmap": [
           {
            "colorbar": {
             "outlinewidth": 0,
             "ticks": ""
            },
            "colorscale": [
             [
              0,
              "#0d0887"
             ],
             [
              0.1111111111111111,
              "#46039f"
             ],
             [
              0.2222222222222222,
              "#7201a8"
             ],
             [
              0.3333333333333333,
              "#9c179e"
             ],
             [
              0.4444444444444444,
              "#bd3786"
             ],
             [
              0.5555555555555556,
              "#d8576b"
             ],
             [
              0.6666666666666666,
              "#ed7953"
             ],
             [
              0.7777777777777778,
              "#fb9f3a"
             ],
             [
              0.8888888888888888,
              "#fdca26"
             ],
             [
              1,
              "#f0f921"
             ]
            ],
            "type": "heatmap"
           }
          ],
          "heatmapgl": [
           {
            "colorbar": {
             "outlinewidth": 0,
             "ticks": ""
            },
            "colorscale": [
             [
              0,
              "#0d0887"
             ],
             [
              0.1111111111111111,
              "#46039f"
             ],
             [
              0.2222222222222222,
              "#7201a8"
             ],
             [
              0.3333333333333333,
              "#9c179e"
             ],
             [
              0.4444444444444444,
              "#bd3786"
             ],
             [
              0.5555555555555556,
              "#d8576b"
             ],
             [
              0.6666666666666666,
              "#ed7953"
             ],
             [
              0.7777777777777778,
              "#fb9f3a"
             ],
             [
              0.8888888888888888,
              "#fdca26"
             ],
             [
              1,
              "#f0f921"
             ]
            ],
            "type": "heatmapgl"
           }
          ],
          "histogram": [
           {
            "marker": {
             "pattern": {
              "fillmode": "overlay",
              "size": 10,
              "solidity": 0.2
             }
            },
            "type": "histogram"
           }
          ],
          "histogram2d": [
           {
            "colorbar": {
             "outlinewidth": 0,
             "ticks": ""
            },
            "colorscale": [
             [
              0,
              "#0d0887"
             ],
             [
              0.1111111111111111,
              "#46039f"
             ],
             [
              0.2222222222222222,
              "#7201a8"
             ],
             [
              0.3333333333333333,
              "#9c179e"
             ],
             [
              0.4444444444444444,
              "#bd3786"
             ],
             [
              0.5555555555555556,
              "#d8576b"
             ],
             [
              0.6666666666666666,
              "#ed7953"
             ],
             [
              0.7777777777777778,
              "#fb9f3a"
             ],
             [
              0.8888888888888888,
              "#fdca26"
             ],
             [
              1,
              "#f0f921"
             ]
            ],
            "type": "histogram2d"
           }
          ],
          "histogram2dcontour": [
           {
            "colorbar": {
             "outlinewidth": 0,
             "ticks": ""
            },
            "colorscale": [
             [
              0,
              "#0d0887"
             ],
             [
              0.1111111111111111,
              "#46039f"
             ],
             [
              0.2222222222222222,
              "#7201a8"
             ],
             [
              0.3333333333333333,
              "#9c179e"
             ],
             [
              0.4444444444444444,
              "#bd3786"
             ],
             [
              0.5555555555555556,
              "#d8576b"
             ],
             [
              0.6666666666666666,
              "#ed7953"
             ],
             [
              0.7777777777777778,
              "#fb9f3a"
             ],
             [
              0.8888888888888888,
              "#fdca26"
             ],
             [
              1,
              "#f0f921"
             ]
            ],
            "type": "histogram2dcontour"
           }
          ],
          "mesh3d": [
           {
            "colorbar": {
             "outlinewidth": 0,
             "ticks": ""
            },
            "type": "mesh3d"
           }
          ],
          "parcoords": [
           {
            "line": {
             "colorbar": {
              "outlinewidth": 0,
              "ticks": ""
             }
            },
            "type": "parcoords"
           }
          ],
          "pie": [
           {
            "automargin": true,
            "type": "pie"
           }
          ],
          "scatter": [
           {
            "marker": {
             "colorbar": {
              "outlinewidth": 0,
              "ticks": ""
             }
            },
            "type": "scatter"
           }
          ],
          "scatter3d": [
           {
            "line": {
             "colorbar": {
              "outlinewidth": 0,
              "ticks": ""
             }
            },
            "marker": {
             "colorbar": {
              "outlinewidth": 0,
              "ticks": ""
             }
            },
            "type": "scatter3d"
           }
          ],
          "scattercarpet": [
           {
            "marker": {
             "colorbar": {
              "outlinewidth": 0,
              "ticks": ""
             }
            },
            "type": "scattercarpet"
           }
          ],
          "scattergeo": [
           {
            "marker": {
             "colorbar": {
              "outlinewidth": 0,
              "ticks": ""
             }
            },
            "type": "scattergeo"
           }
          ],
          "scattergl": [
           {
            "marker": {
             "colorbar": {
              "outlinewidth": 0,
              "ticks": ""
             }
            },
            "type": "scattergl"
           }
          ],
          "scattermapbox": [
           {
            "marker": {
             "colorbar": {
              "outlinewidth": 0,
              "ticks": ""
             }
            },
            "type": "scattermapbox"
           }
          ],
          "scatterpolar": [
           {
            "marker": {
             "colorbar": {
              "outlinewidth": 0,
              "ticks": ""
             }
            },
            "type": "scatterpolar"
           }
          ],
          "scatterpolargl": [
           {
            "marker": {
             "colorbar": {
              "outlinewidth": 0,
              "ticks": ""
             }
            },
            "type": "scatterpolargl"
           }
          ],
          "scatterternary": [
           {
            "marker": {
             "colorbar": {
              "outlinewidth": 0,
              "ticks": ""
             }
            },
            "type": "scatterternary"
           }
          ],
          "surface": [
           {
            "colorbar": {
             "outlinewidth": 0,
             "ticks": ""
            },
            "colorscale": [
             [
              0,
              "#0d0887"
             ],
             [
              0.1111111111111111,
              "#46039f"
             ],
             [
              0.2222222222222222,
              "#7201a8"
             ],
             [
              0.3333333333333333,
              "#9c179e"
             ],
             [
              0.4444444444444444,
              "#bd3786"
             ],
             [
              0.5555555555555556,
              "#d8576b"
             ],
             [
              0.6666666666666666,
              "#ed7953"
             ],
             [
              0.7777777777777778,
              "#fb9f3a"
             ],
             [
              0.8888888888888888,
              "#fdca26"
             ],
             [
              1,
              "#f0f921"
             ]
            ],
            "type": "surface"
           }
          ],
          "table": [
           {
            "cells": {
             "fill": {
              "color": "#EBF0F8"
             },
             "line": {
              "color": "white"
             }
            },
            "header": {
             "fill": {
              "color": "#C8D4E3"
             },
             "line": {
              "color": "white"
             }
            },
            "type": "table"
           }
          ]
         },
         "layout": {
          "annotationdefaults": {
           "arrowcolor": "#2a3f5f",
           "arrowhead": 0,
           "arrowwidth": 1
          },
          "autotypenumbers": "strict",
          "coloraxis": {
           "colorbar": {
            "outlinewidth": 0,
            "ticks": ""
           }
          },
          "colorscale": {
           "diverging": [
            [
             0,
             "#8e0152"
            ],
            [
             0.1,
             "#c51b7d"
            ],
            [
             0.2,
             "#de77ae"
            ],
            [
             0.3,
             "#f1b6da"
            ],
            [
             0.4,
             "#fde0ef"
            ],
            [
             0.5,
             "#f7f7f7"
            ],
            [
             0.6,
             "#e6f5d0"
            ],
            [
             0.7,
             "#b8e186"
            ],
            [
             0.8,
             "#7fbc41"
            ],
            [
             0.9,
             "#4d9221"
            ],
            [
             1,
             "#276419"
            ]
           ],
           "sequential": [
            [
             0,
             "#0d0887"
            ],
            [
             0.1111111111111111,
             "#46039f"
            ],
            [
             0.2222222222222222,
             "#7201a8"
            ],
            [
             0.3333333333333333,
             "#9c179e"
            ],
            [
             0.4444444444444444,
             "#bd3786"
            ],
            [
             0.5555555555555556,
             "#d8576b"
            ],
            [
             0.6666666666666666,
             "#ed7953"
            ],
            [
             0.7777777777777778,
             "#fb9f3a"
            ],
            [
             0.8888888888888888,
             "#fdca26"
            ],
            [
             1,
             "#f0f921"
            ]
           ],
           "sequentialminus": [
            [
             0,
             "#0d0887"
            ],
            [
             0.1111111111111111,
             "#46039f"
            ],
            [
             0.2222222222222222,
             "#7201a8"
            ],
            [
             0.3333333333333333,
             "#9c179e"
            ],
            [
             0.4444444444444444,
             "#bd3786"
            ],
            [
             0.5555555555555556,
             "#d8576b"
            ],
            [
             0.6666666666666666,
             "#ed7953"
            ],
            [
             0.7777777777777778,
             "#fb9f3a"
            ],
            [
             0.8888888888888888,
             "#fdca26"
            ],
            [
             1,
             "#f0f921"
            ]
           ]
          },
          "colorway": [
           "#636efa",
           "#EF553B",
           "#00cc96",
           "#ab63fa",
           "#FFA15A",
           "#19d3f3",
           "#FF6692",
           "#B6E880",
           "#FF97FF",
           "#FECB52"
          ],
          "font": {
           "color": "#2a3f5f"
          },
          "geo": {
           "bgcolor": "white",
           "lakecolor": "white",
           "landcolor": "#E5ECF6",
           "showlakes": true,
           "showland": true,
           "subunitcolor": "white"
          },
          "hoverlabel": {
           "align": "left"
          },
          "hovermode": "closest",
          "mapbox": {
           "style": "light"
          },
          "paper_bgcolor": "white",
          "plot_bgcolor": "#E5ECF6",
          "polar": {
           "angularaxis": {
            "gridcolor": "white",
            "linecolor": "white",
            "ticks": ""
           },
           "bgcolor": "#E5ECF6",
           "radialaxis": {
            "gridcolor": "white",
            "linecolor": "white",
            "ticks": ""
           }
          },
          "scene": {
           "xaxis": {
            "backgroundcolor": "#E5ECF6",
            "gridcolor": "white",
            "gridwidth": 2,
            "linecolor": "white",
            "showbackground": true,
            "ticks": "",
            "zerolinecolor": "white"
           },
           "yaxis": {
            "backgroundcolor": "#E5ECF6",
            "gridcolor": "white",
            "gridwidth": 2,
            "linecolor": "white",
            "showbackground": true,
            "ticks": "",
            "zerolinecolor": "white"
           },
           "zaxis": {
            "backgroundcolor": "#E5ECF6",
            "gridcolor": "white",
            "gridwidth": 2,
            "linecolor": "white",
            "showbackground": true,
            "ticks": "",
            "zerolinecolor": "white"
           }
          },
          "shapedefaults": {
           "line": {
            "color": "#2a3f5f"
           }
          },
          "ternary": {
           "aaxis": {
            "gridcolor": "white",
            "linecolor": "white",
            "ticks": ""
           },
           "baxis": {
            "gridcolor": "white",
            "linecolor": "white",
            "ticks": ""
           },
           "bgcolor": "#E5ECF6",
           "caxis": {
            "gridcolor": "white",
            "linecolor": "white",
            "ticks": ""
           }
          },
          "title": {
           "x": 0.05
          },
          "xaxis": {
           "automargin": true,
           "gridcolor": "white",
           "linecolor": "white",
           "ticks": "",
           "title": {
            "standoff": 15
           },
           "zerolinecolor": "white",
           "zerolinewidth": 2
          },
          "yaxis": {
           "automargin": true,
           "gridcolor": "white",
           "linecolor": "white",
           "ticks": "",
           "title": {
            "standoff": 15
           },
           "zerolinecolor": "white",
           "zerolinewidth": 2
          }
         }
        },
        "title": {
         "text": "Lack of money seen as greatest barrier for the excluded segments"
        }
       }
      },
      "image/png": "[encoded data removed]",
      "text/html": [
       "<div>                            <div id=\"5c7fb680-12cb-4286-8bf3-01790104037c\" class=\"plotly-graph-div\" style=\"height:525px; width:100%;\"></div>            <script type=\"text/javascript\">                require([\"plotly\"], function(Plotly) {                    window.PLOTLYENV=window.PLOTLYENV || {};                                    if (document.getElementById(\"5c7fb680-12cb-4286-8bf3-01790104037c\")) {                    Plotly.newPlot(                        \"5c7fb680-12cb-4286-8bf3-01790104037c\",                        [{\"hovertemplate\":\"<b>%{hovertext}</b><br><br>Segment=Cash Savers<br>value=%{r}<br>variable=%{theta}<extra></extra>\",\"hovertext\":[\"Cash Savers\",\"Cash Savers\",\"Cash Savers\",\"Cash Savers\",\"Cash Savers\",\"Cash Savers\",\"Cash Savers\",\"Cash Savers\",\"Cash Savers\"],\"legendgroup\":\"Cash Savers\",\"line\":{\"color\":\"#636efa\",\"dash\":\"solid\",\"shape\":\"linear\"},\"marker\":{\"symbol\":\"circle\"},\"mode\":\"lines+markers\",\"name\":\"Cash Savers\",\"r\":[37.01799485861182,45.501285347043705,38.81748071979435,16.709511568123396,10.539845758354756,58.61182519280206,23.90745501285347,36.760925449871465,37.01799485861182],\"showlegend\":true,\"subplot\":\"polar\",\"theta\":[\"FI are too far away\",\"FS are too expensive\",\"No necessary documentation\",\"No trust in FI\",\"Religious reasons\",\"Not enough money to use FI\",\"Family already has an account\",\"No need for formal FI\",\"FI are too far away\"],\"type\":\"scatterpolar\",\"fill\":\"toself\"},{\"hovertemplate\":\"<b>%{hovertext}</b><br><br>Segment=Underserved and Vulnerable<br>value=%{r}<br>variable=%{theta}<extra></extra>\",\"hovertext\":[\"Underserved and Vulnerable\",\"Underserved and Vulnerable\",\"Underserved and Vulnerable\",\"Underserved and Vulnerable\",\"Underserved and Vulnerable\",\"Underserved and Vulnerable\",\"Underserved and Vulnerable\",\"Underserved and Vulnerable\",\"Underserved and Vulnerable\"],\"legendgroup\":\"Underserved and Vulnerable\",\"line\":{\"color\":\"#EF553B\",\"dash\":\"solid\",\"shape\":\"linear\"},\"marker\":{\"symbol\":\"circle\"},\"mode\":\"lines+markers\",\"name\":\"Underserved and Vulnerable\",\"r\":[46.40522875816993,58.16993464052288,43.13725490196079,23.52941176470588,18.954248366013072,68.62745098039215,18.30065359477124,35.947712418300654,46.40522875816993],\"showlegend\":true,\"subplot\":\"polar\",\"theta\":[\"FI are too far away\",\"FS are too expensive\",\"No necessary documentation\",\"No trust in FI\",\"Religious reasons\",\"Not enough money to use FI\",\"Family already has an account\",\"No need for formal FI\",\"FI are too far away\"],\"type\":\"scatterpolar\",\"fill\":\"toself\"},{\"hovertemplate\":\"<b>%{hovertext}</b><br><br>Segment=Supported<br>value=%{r}<br>variable=%{theta}<extra></extra>\",\"hovertext\":[\"Supported\",\"Supported\",\"Supported\",\"Supported\",\"Supported\",\"Supported\",\"Supported\",\"Supported\",\"Supported\"],\"legendgroup\":\"Supported\",\"line\":{\"color\":\"#00cc96\",\"dash\":\"solid\",\"shape\":\"linear\"},\"marker\":{\"symbol\":\"circle\"},\"mode\":\"lines+markers\",\"name\":\"Supported\",\"r\":[31.70731707317073,47.5609756097561,42.68292682926829,20.121951219512198,10.975609756097562,67.6829268292683,23.78048780487805,34.756097560975604,31.70731707317073],\"showlegend\":true,\"subplot\":\"polar\",\"theta\":[\"FI are too far away\",\"FS are too expensive\",\"No necessary documentation\",\"No trust in FI\",\"Religious reasons\",\"Not enough money to use FI\",\"Family already has an account\",\"No need for formal FI\",\"FI are too far away\"],\"type\":\"scatterpolar\",\"fill\":\"toself\"}],                        {\"template\":{\"data\":{\"bar\":[{\"error_x\":{\"color\":\"#2a3f5f\"},\"error_y\":{\"color\":\"#2a3f5f\"},\"marker\":{\"line\":{\"color\":\"#E5ECF6\",\"width\":0.5},\"pattern\":{\"fillmode\":\"overlay\",\"size\":10,\"solidity\":0.2}},\"type\":\"bar\"}],\"barpolar\":[{\"marker\":{\"line\":{\"color\":\"#E5ECF6\",\"width\":0.5},\"pattern\":{\"fillmode\":\"overlay\",\"size\":10,\"solidity\":0.2}},\"type\":\"barpolar\"}],\"carpet\":[{\"aaxis\":{\"endlinecolor\":\"#2a3f5f\",\"gridcolor\":\"white\",\"linecolor\":\"white\",\"minorgridcolor\":\"white\",\"startlinecolor\":\"#2a3f5f\"},\"baxis\":{\"endlinecolor\":\"#2a3f5f\",\"gridcolor\":\"white\",\"linecolor\":\"white\",\"minorgridcolor\":\"white\",\"startlinecolor\":\"#2a3f5f\"},\"type\":\"carpet\"}],\"choropleth\":[{\"colorbar\":{\"outlinewidth\":0,\"ticks\":\"\"},\"type\":\"choropleth\"}],\"contour\":[{\"colorbar\":{\"outlinewidth\":0,\"ticks\":\"\"},\"colorscale\":[[0.0,\"#0d0887\"],[0.1111111111111111,\"#46039f\"],[0.2222222222222222,\"#7201a8\"],[0.3333333333333333,\"#9c179e\"],[0.4444444444444444,\"#bd3786\"],[0.5555555555555556,\"#d8576b\"],[0.6666666666666666,\"#ed7953\"],[0.7777777777777778,\"#fb9f3a\"],[0.8888888888888888,\"#fdca26\"],[1.0,\"#f0f921\"]],\"type\":\"contour\"}],\"contourcarpet\":[{\"colorbar\":{\"outlinewidth\":0,\"ticks\":\"\"},\"type\":\"contourcarpet\"}],\"heatmap\":[{\"colorbar\":{\"outlinewidth\":0,\"ticks\":\"\"},\"colorscale\":[[0.0,\"#0d0887\"],[0.1111111111111111,\"#46039f\"],[0.2222222222222222,\"#7201a8\"],[0.3333333333333333,\"#9c179e\"],[0.4444444444444444,\"#bd3786\"],[0.5555555555555556,\"#d8576b\"],[0.6666666666666666,\"#ed7953\"],[0.7777777777777778,\"#fb9f3a\"],[0.8888888888888888,\"#fdca26\"],[1.0,\"#f0f921\"]],\"type\":\"heatmap\"}],\"heatmapgl\":[{\"colorbar\":{\"outlinewidth\":0,\"ticks\":\"\"},\"colorscale\":[[0.0,\"#0d0887\"],[0.1111111111111111,\"#46039f\"],[0.2222222222222222,\"#7201a8\"],[0.3333333333333333,\"#9c179e\"],[0.4444444444444444,\"#bd3786\"],[0.5555555555555556,\"#d8576b\"],[0.6666666666666666,\"#ed7953\"],[0.7777777777777778,\"#fb9f3a\"],[0.8888888888888888,\"#fdca26\"],[1.0,\"#f0f921\"]],\"type\":\"heatmapgl\"}],\"histogram\":[{\"marker\":{\"pattern\":{\"fillmode\":\"overlay\",\"size\":10,\"solidity\":0.2}},\"type\":\"histogram\"}],\"histogram2d\":[{\"colorbar\":{\"outlinewidth\":0,\"ticks\":\"\"},\"colorscale\":[[0.0,\"#0d0887\"],[0.1111111111111111,\"#46039f\"],[0.2222222222222222,\"#7201a8\"],[0.3333333333333333,\"#9c179e\"],[0.4444444444444444,\"#bd3786\"],[0.5555555555555556,\"#d8576b\"],[0.6666666666666666,\"#ed7953\"],[0.7777777777777778,\"#fb9f3a\"],[0.8888888888888888,\"#fdca26\"],[1.0,\"#f0f921\"]],\"type\":\"histogram2d\"}],\"histogram2dcontour\":[{\"colorbar\":{\"outlinewidth\":0,\"ticks\":\"\"},\"colorscale\":[[0.0,\"#0d0887\"],[0.1111111111111111,\"#46039f\"],[0.2222222222222222,\"#7201a8\"],[0.3333333333333333,\"#9c179e\"],[0.4444444444444444,\"#bd3786\"],[0.5555555555555556,\"#d8576b\"],[0.6666666666666666,\"#ed7953\"],[0.7777777777777778,\"#fb9f3a\"],[0.8888888888888888,\"#fdca26\"],[1.0,\"#f0f921\"]],\"type\":\"histogram2dcontour\"}],\"mesh3d\":[{\"colorbar\":{\"outlinewidth\":0,\"ticks\":\"\"},\"type\":\"mesh3d\"}],\"parcoords\":[{\"line\":{\"colorbar\":{\"outlinewidth\":0,\"ticks\":\"\"}},\"type\":\"parcoords\"}],\"pie\":[{\"automargin\":true,\"type\":\"pie\"}],\"scatter\":[{\"marker\":{\"colorbar\":{\"outlinewidth\":0,\"ticks\":\"\"}},\"type\":\"scatter\"}],\"scatter3d\":[{\"line\":{\"colorbar\":{\"outlinewidth\":0,\"ticks\":\"\"}},\"marker\":{\"colorbar\":{\"outlinewidth\":0,\"ticks\":\"\"}},\"type\":\"scatter3d\"}],\"scattercarpet\":[{\"marker\":{\"colorbar\":{\"outlinewidth\":0,\"ticks\":\"\"}},\"type\":\"scattercarpet\"}],\"scattergeo\":[{\"marker\":{\"colorbar\":{\"outlinewidth\":0,\"ticks\":\"\"}},\"type\":\"scattergeo\"}],\"scattergl\":[{\"marker\":{\"colorbar\":{\"outlinewidth\":0,\"ticks\":\"\"}},\"type\":\"scattergl\"}],\"scattermapbox\":[{\"marker\":{\"colorbar\":{\"outlinewidth\":0,\"ticks\":\"\"}},\"type\":\"scattermapbox\"}],\"scatterpolar\":[{\"marker\":{\"colorbar\":{\"outlinewidth\":0,\"ticks\":\"\"}},\"type\":\"scatterpolar\"}],\"scatterpolargl\":[{\"marker\":{\"colorbar\":{\"outlinewidth\":0,\"ticks\":\"\"}},\"type\":\"scatterpolargl\"}],\"scatterternary\":[{\"marker\":{\"colorbar\":{\"outlinewidth\":0,\"ticks\":\"\"}},\"type\":\"scatterternary\"}],\"surface\":[{\"colorbar\":{\"outlinewidth\":0,\"ticks\":\"\"},\"colorscale\":[[0.0,\"#0d0887\"],[0.1111111111111111,\"#46039f\"],[0.2222222222222222,\"#7201a8\"],[0.3333333333333333,\"#9c179e\"],[0.4444444444444444,\"#bd3786\"],[0.5555555555555556,\"#d8576b\"],[0.6666666666666666,\"#ed7953\"],[0.7777777777777778,\"#fb9f3a\"],[0.8888888888888888,\"#fdca26\"],[1.0,\"#f0f921\"]],\"type\":\"surface\"}],\"table\":[{\"cells\":{\"fill\":{\"color\":\"#EBF0F8\"},\"line\":{\"color\":\"white\"}},\"header\":{\"fill\":{\"color\":\"#C8D4E3\"},\"line\":{\"color\":\"white\"}},\"type\":\"table\"}]},\"layout\":{\"annotationdefaults\":{\"arrowcolor\":\"#2a3f5f\",\"arrowhead\":0,\"arrowwidth\":1},\"autotypenumbers\":\"strict\",\"coloraxis\":{\"colorbar\":{\"outlinewidth\":0,\"ticks\":\"\"}},\"colorscale\":{\"diverging\":[[0,\"#8e0152\"],[0.1,\"#c51b7d\"],[0.2,\"#de77ae\"],[0.3,\"#f1b6da\"],[0.4,\"#fde0ef\"],[0.5,\"#f7f7f7\"],[0.6,\"#e6f5d0\"],[0.7,\"#b8e186\"],[0.8,\"#7fbc41\"],[0.9,\"#4d9221\"],[1,\"#276419\"]],\"sequential\":[[0.0,\"#0d0887\"],[0.1111111111111111,\"#46039f\"],[0.2222222222222222,\"#7201a8\"],[0.3333333333333333,\"#9c179e\"],[0.4444444444444444,\"#bd3786\"],[0.5555555555555556,\"#d8576b\"],[0.6666666666666666,\"#ed7953\"],[0.7777777777777778,\"#fb9f3a\"],[0.8888888888888888,\"#fdca26\"],[1.0,\"#f0f921\"]],\"sequentialminus\":[[0.0,\"#0d0887\"],[0.1111111111111111,\"#46039f\"],[0.2222222222222222,\"#7201a8\"],[0.3333333333333333,\"#9c179e\"],[0.4444444444444444,\"#bd3786\"],[0.5555555555555556,\"#d8576b\"],[0.6666666666666666,\"#ed7953\"],[0.7777777777777778,\"#fb9f3a\"],[0.8888888888888888,\"#fdca26\"],[1.0,\"#f0f921\"]]},\"colorway\":[\"#636efa\",\"#EF553B\",\"#00cc96\",\"#ab63fa\",\"#FFA15A\",\"#19d3f3\",\"#FF6692\",\"#B6E880\",\"#FF97FF\",\"#FECB52\"],\"font\":{\"color\":\"#2a3f5f\"},\"geo\":{\"bgcolor\":\"white\",\"lakecolor\":\"white\",\"landcolor\":\"#E5ECF6\",\"showlakes\":true,\"showland\":true,\"subunitcolor\":\"white\"},\"hoverlabel\":{\"align\":\"left\"},\"hovermode\":\"closest\",\"mapbox\":{\"style\":\"light\"},\"paper_bgcolor\":\"white\",\"plot_bgcolor\":\"#E5ECF6\",\"polar\":{\"angularaxis\":{\"gridcolor\":\"white\",\"linecolor\":\"white\",\"ticks\":\"\"},\"bgcolor\":\"#E5ECF6\",\"radialaxis\":{\"gridcolor\":\"white\",\"linecolor\":\"white\",\"ticks\":\"\"}},\"scene\":{\"xaxis\":{\"backgroundcolor\":\"#E5ECF6\",\"gridcolor\":\"white\",\"gridwidth\":2,\"linecolor\":\"white\",\"showbackground\":true,\"ticks\":\"\",\"zerolinecolor\":\"white\"},\"yaxis\":{\"backgroundcolor\":\"#E5ECF6\",\"gridcolor\":\"white\",\"gridwidth\":2,\"linecolor\":\"white\",\"showbackground\":true,\"ticks\":\"\",\"zerolinecolor\":\"white\"},\"zaxis\":{\"backgroundcolor\":\"#E5ECF6\",\"gridcolor\":\"white\",\"gridwidth\":2,\"linecolor\":\"white\",\"showbackground\":true,\"ticks\":\"\",\"zerolinecolor\":\"white\"}},\"shapedefaults\":{\"line\":{\"color\":\"#2a3f5f\"}},\"ternary\":{\"aaxis\":{\"gridcolor\":\"white\",\"linecolor\":\"white\",\"ticks\":\"\"},\"baxis\":{\"gridcolor\":\"white\",\"linecolor\":\"white\",\"ticks\":\"\"},\"bgcolor\":\"#E5ECF6\",\"caxis\":{\"gridcolor\":\"white\",\"linecolor\":\"white\",\"ticks\":\"\"}},\"title\":{\"x\":0.05},\"xaxis\":{\"automargin\":true,\"gridcolor\":\"white\",\"linecolor\":\"white\",\"ticks\":\"\",\"title\":{\"standoff\":15},\"zerolinecolor\":\"white\",\"zerolinewidth\":2},\"yaxis\":{\"automargin\":true,\"gridcolor\":\"white\",\"linecolor\":\"white\",\"ticks\":\"\",\"title\":{\"standoff\":15},\"zerolinecolor\":\"white\",\"zerolinewidth\":2}}},\"polar\":{\"domain\":{\"x\":[0.0,1.0],\"y\":[0.0,1.0]},\"angularaxis\":{\"direction\":\"clockwise\",\"rotation\":45}},\"legend\":{\"title\":{\"text\":\"Segment\"},\"tracegroupgap\":0},\"title\":{\"text\":\"Lack of money seen as greatest barrier for the excluded segments\"}},                        {\"responsive\": true}                    ).then(function(){\n",
       "                            \n",
       "var gd = document.getElementById('5c7fb680-12cb-4286-8bf3-01790104037c');\n",
       "var x = new MutationObserver(function (mutations, observer) {{\n",
       "        var display = window.getComputedStyle(gd).display;\n",
       "        if (!display || display === 'none') {{\n",
       "            console.log([gd, 'removed!']);\n",
       "            Plotly.purge(gd);\n",
       "            observer.disconnect();\n",
       "        }}\n",
       "}});\n",
       "\n",
       "// Listen for the removal of the full notebook cells\n",
       "var notebookContainer = gd.closest('#notebook-container');\n",
       "if (notebookContainer) {{\n",
       "    x.observe(notebookContainer, {childList: true});\n",
       "}}\n",
       "\n",
       "// Listen for the clearing of the current output cell\n",
       "var outputEl = gd.closest('.output');\n",
       "if (outputEl) {{\n",
       "    x.observe(outputEl, {childList: true});\n",
       "}}\n",
       "\n",
       "                        })                };                });            </script>        </div>"
      ]
     },
     "metadata": {},
     "output_type": "display_data"
    },
    {
     "data": {
      "text/plain": [
       "<Figure size 1200x600 with 0 Axes>"
      ]
     },
     "metadata": {},
     "output_type": "display_data"
    }
   ],
   "source": [
    "# Set figure size\n",
    "plt.figure(figsize=(6,3)  , dpi=200)\n",
    "\n",
    "fig = px.line_polar(reasons, r = 'value', theta = 'variable', color = 'Segment', line_close = True,\n",
    "                    line_shape = 'linear', #or spline\n",
    "                    hover_name = 'Segment',\n",
    "                    markers = True,\n",
    "                    direction = 'clockwise',\n",
    "                    start_angle = 45,\n",
    "                    title = \"Lack of money seen as greatest barrier for the excluded segments\"\n",
    "                                       )\n",
    "fig.update_traces(fill = 'toself')\n",
    "\n",
    "\n",
    "fig.show()\n",
    "                    "
   ]
  }
 ],
 "metadata": {
  "kernelspec": {
   "display_name": "Python 3 (ipykernel)",
   "language": "python",
   "name": "python3"
  },
  "language_info": {
   "codemirror_mode": {
    "name": "ipython",
    "version": 3
   },
   "file_extension": ".py",
   "mimetype": "text/x-python",
   "name": "python",
   "nbconvert_exporter": "python",
   "pygments_lexer": "ipython3",
   "version": "3.9.12"
  },
  "vscode": {
   "interpreter": {
    "hash": "2e9d9c50c45000fd4823d374510015e733271b79f24d95922087ee58e2cd4059"
   }
  }
 },
 "nbformat": 4,
 "nbformat_minor": 5
}
